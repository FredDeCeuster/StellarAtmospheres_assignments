{
 "cells": [
  {
   "cell_type": "markdown",
   "metadata": {},
   "source": [
    "# 1: Slab model\n",
    "---------------\n",
    "\n",
    "This notebook computes an infrared spectrum following a slab model with a black body as central star.\n",
    "\n",
    "_This exercise was originally written by Michel Hillen in 2015, following the original IDL code of Tijl Verhoelst, then modified by Ana Escorza in 2016, and finally by Frederik De Ceuster in 2024._"
   ]
  },
  {
   "cell_type": "code",
   "execution_count": null,
   "metadata": {},
   "outputs": [],
   "source": [
    "import os\n",
    "\n",
    "import numpy as np\n",
    "import matplotlib.pyplot as plt\n",
    "\n",
    "from astropy import units\n",
    "from astropy import constants\n",
    "from astropy.modeling.models import BlackBody\n",
    "from astropy.visualization import quantity_support"
   ]
  },
  {
   "cell_type": "markdown",
   "metadata": {},
   "source": [
    "Choose the model parameters: the temperatures and angular sizes of the star and the slab, as well as the column density of the slab"
   ]
  },
  {
   "cell_type": "code",
   "execution_count": null,
   "metadata": {},
   "outputs": [],
   "source": [
    "# Define the model parameters\n",
    "temperature_star = 0\n",
    "temperature_slab = 0\n",
    "theta_star = 0\n",
    "theta_slab = 0\n",
    "column_density = 0"
   ]
  },
  {
   "cell_type": "markdown",
   "metadata": {},
   "source": [
    "Now read the water cross section file for the chosen slab temperature (note it must be between 500 and 2500 K in multiples of 100)"
   ]
  },
  {
   "cell_type": "code",
   "execution_count": null,
   "metadata": {},
   "outputs": [],
   "source": [
    "# Read cross section file\n",
    "cross_section_file = 'data/H2O_tau_{:04d}K.txt'.format(temperature_slab)\n",
    "wavelength, cross_section = np.loadtxt(cross_section_file,\n",
    "                                       skiprows=1,\n",
    "                                       unpack=True)\n",
    "\n",
    "# Attach astropy units\n",
    "wavelength *= units.nm\n",
    "cross_section *= units.cm**2\n"
   ]
  },
  {
   "cell_type": "code",
   "execution_count": null,
   "metadata": {},
   "outputs": [],
   "source": [
    "# Attach units to the model parameters\n",
    "temperature_star *= units.K\n",
    "temperature_slab *= units.K\n",
    "theta_star *= units.mas\n",
    "theta_slab *= units.mas\n",
    "column_density *= units.cm**(-2)"
   ]
  },
  {
   "cell_type": "code",
   "execution_count": null,
   "metadata": {},
   "outputs": [],
   "source": [
    "def convolve_with_gaussian(x, y, width):\n",
    "    # Convert from the FWHM to the constant in the Gaussian\n",
    "    width = width / (2.0 * np.sqrt(2.0 * np.log(2.0)))\n",
    "\n",
    "    # Create the Gaussian kernel\n",
    "    n = len(x)\n",
    "    width_pix = width / ((x[n - 1] - x[0]) / n)\n",
    "    nker = 20 * np.floor(width_pix)\n",
    "    z = (np.arange(nker) - np.floor(nker / 2)) / width_pix\n",
    "    kernel = np.exp(-0.5 * z**2)\n",
    "\n",
    "    # Normalize it for flux conservation\n",
    "    normalisation_factor = kernel.sum()\n",
    "\n",
    "    # Convolve\n",
    "    result = (1.0 / normalisation_factor) * np.convolve(y, kernel, mode='same')\n",
    "\n",
    "    return result"
   ]
  },
  {
   "cell_type": "markdown",
   "metadata": {},
   "source": [
    "Optical depth, assuming a constant opacity and density along the line-of-sight, is\n",
    "\\begin{equation}\n",
    "    \\tau_{\\nu} \\ = \\ \\kappa_{\\nu} \\, \\rho \\, d = \\ N \\, \\sigma_{\\nu}\n",
    "\\end{equation}\n",
    "Solution of the radiative transfer equation, assuming a constant source function, $S_{\\nu}$, along the line-of-sight,\n",
    "\\begin{equation}\n",
    "    I_{\\nu} \\ = \\ I^{\\text{bdy}}_{\\nu} \\, e^{-\\tau_{\\nu}} \\ + \\ S_{\\nu} \\left( 1 - e^{-\\tau_{\\nu}} \\right) .\n",
    "\\end{equation}"
   ]
  },
  {
   "cell_type": "code",
   "execution_count": null,
   "metadata": {},
   "outputs": [],
   "source": [
    "# Define the star and slab as black body radiators at a given temperature\n",
    "bb_star = BlackBody(temperature=temperature_star)\n",
    "bb_slab = BlackBody(temperature=temperature_slab)\n",
    "\n",
    "# Optical depth through slab (assuming a constant density and cross section along the line-of-sight)\n",
    "optical_depth = cross_section * column_density\n",
    "\n",
    "# Spectrum of star\n",
    "spec_star = bb_star(wavelength) * np.pi * theta_star**2\n",
    "\n",
    "# Spectrum of star after trasfer through slab\n",
    "spec_slab =   bb_star(wavelength) * np.pi * theta_star**2 *      np.exp(-optical_depth) \\\n",
    "            + bb_slab(wavelength) * np.pi * theta_slab**2 * (1 - np.exp(-optical_depth))\n",
    "\n",
    "# Spectrum convolved with Gaussian beam\n",
    "spec_conv = convolve_with_gaussian(wavelength, spec_slab, width=3.0 * units.nm)\n"
   ]
  },
  {
   "cell_type": "code",
   "execution_count": null,
   "metadata": {},
   "outputs": [],
   "source": [
    "# Plot the stellar and slab spectra (note the first and last 10 points of the convolved slab spectrum are affected by boundary issues and are removed)\n",
    "with quantity_support():\n",
    "    plt.figure(dpi=130)\n",
    "    plt.plot(wavelength.to(units.micron),\n",
    "             spec_star.to(units.Jansky),\n",
    "             label='star')\n",
    "    plt.plot(wavelength.to(units.micron),\n",
    "             spec_slab.to(units.Jansky),\n",
    "             label='star+slab')\n",
    "    plt.plot(wavelength[10:-10].to(units.micron),\n",
    "             spec_conv[10:-10].to(units.Jansky),\n",
    "             label='convolved low res')\n",
    "    plt.xscale('log')\n",
    "    plt.title(\n",
    "        f\"T_st={temperature_star}, T_sl={temperature_slab}, t_st={theta_star}, t_sl={theta_slab}, \\n N={column_density}\"\n",
    "    )\n",
    "    plt.legend()\n",
    "    try:\n",
    "        plt.savefig(\n",
    "            f'plots/Tst_{temperature_star.value}_Tsl_{temperature_slab.value}_tst_{theta_star.value}_tsl_{theta_slab.value}_N_{column_density.value}.png'\n",
    "        )\n",
    "    except FileNotFoundError:\n",
    "        os.mkdir('plots')\n",
    "        plt.savefig(\n",
    "            f'plots/Tst_{temperature_star.value}_Tsl_{temperature_slab.value}_tst_{theta_star.value}_tsl_{theta_slab.value}_N_{column_density.value}.png'\n",
    "        )"
   ]
  }
 ],
 "metadata": {
  "kernelspec": {
   "display_name": "Python 3",
   "language": "python",
   "name": "python3"
  },
  "language_info": {
   "codemirror_mode": {
    "name": "ipython",
    "version": 3
   },
   "file_extension": ".py",
   "mimetype": "text/x-python",
   "name": "python",
   "nbconvert_exporter": "python",
   "pygments_lexer": "ipython3",
   "version": "3.12.0"
  }
 },
 "nbformat": 4,
 "nbformat_minor": 4
}
