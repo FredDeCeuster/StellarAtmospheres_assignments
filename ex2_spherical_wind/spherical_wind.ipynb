{
 "cells": [
  {
   "cell_type": "markdown",
   "metadata": {},
   "source": [
    "# 2: Spherical wind\n",
    "-------------------\n"
   ]
  },
  {
   "cell_type": "code",
   "execution_count": 1,
   "metadata": {},
   "outputs": [],
   "source": [
    "import numpy             as np\n",
    "import scipy             as sp\n",
    "import matplotlib.pyplot as plt\n",
    "import magritte.tools    as tools\n",
    "import magritte.setup    as setup\n",
    "import magritte.core     as magritte\n",
    "\n",
    "from astropy import units, constants"
   ]
  },
  {
   "cell_type": "code",
   "execution_count": 2,
   "metadata": {},
   "outputs": [
    {
     "name": "stdout",
     "output_type": "stream",
     "text": [
      "This file already exists, good!\n"
     ]
    }
   ],
   "source": [
    "# Define names for the data files\n",
    "model_file = 'output/magritte_spherical_wind.hdf5'\n",
    "lamda_file = 'data/co_cut_20.txt'\n",
    "output_file = 'output/WX_Psc_model_results.txt'\n",
    "\n",
    "# Make file to store results, if it doesn't already exist\n",
    "try:\n",
    "    with open(output_file, 'x') as f:\n",
    "        f.write('Mdot, epsilon, chi2\\n')\n",
    "except FileExistsError:\n",
    "    print('This file already exists, good!')"
   ]
  },
  {
   "cell_type": "markdown",
   "metadata": {},
   "source": [
    "You will modify two parameters to find the best fit model: the mass-loss rate and the power-law exponent of the temperature profile"
   ]
  },
  {
   "cell_type": "code",
   "execution_count": 3,
   "metadata": {},
   "outputs": [],
   "source": [
    "# Define the mass-loss rate (Mdot, in solar masses per year) and temperature profile exponent (epsilon)\n",
    "Mdot     = 5e-6\n",
    "epsilon  =  0.5"
   ]
  },
  {
   "cell_type": "code",
   "execution_count": 4,
   "metadata": {},
   "outputs": [],
   "source": [
    "# Now define the other stellar parameters we will need\n",
    "distance = (740     * units.pc            ).si.value  # distance to WX Psc\n",
    "r_star   = (520     * constants.R_sun     ).si.value  # stellar radius\n",
    "r_in     =  1.7     * r_star                          # radius of the inner edge of the circumstellar envelope\n",
    "r_out    = (1.1e+17 * units.cm            ).si.value  # radius of the outer edge of the circumstellar envelope\n",
    "v_inf    = (19.8    * units.km/units.s    ).si.value  # expansion velocity of the envelope\n",
    "T_star   = (2750    * units.K             ).si.value  # effective temperature of the star\n",
    "T_in     = (1000    * units.K             ).si.value  # temperature at r_in = dust condensation temperature\n",
    "xCO      =  1.0e-4                                    # fractional CO abundance (relative to H2)\n",
    "v_turb   = (1.5e+0  * units.km   /units.s ).si.value  # turbulent velocity\n",
    "\n",
    "# Give Mdot in SI units\n",
    "Mdot_si = (Mdot  * units.M_sun/units.yr).si.value\n",
    "\n",
    "# Define the number and array of radial points\n",
    "npoints  = 512\n",
    "rs = np.logspace(np.log10(r_in), np.log10(r_out), npoints, dtype=np.float64)\n",
    "\n",
    "# Define the other arrays\n",
    "v_r = v_inf  * np.ones_like(rs)                 # expansion velocity\n",
    "trb = v_turb * np.ones_like(rs)                 # turbulent velocity\n",
    "tmp = T_in * (r_in / rs)**epsilon               # temperature\n",
    "rho = Mdot_si / (4.0 * np.pi * rs**2 * v_r)     # density\n",
    "nH2 = (constants.N_A.si.value / 2.02e-3) * rho  # H2 density\n",
    "nCO = xCO * nH2                                 # CO density"
   ]
  },
  {
   "cell_type": "code",
   "execution_count": 5,
   "metadata": {},
   "outputs": [
    {
     "ename": "IndexError",
     "evalue": "list index out of range",
     "output_type": "error",
     "traceback": [
      "\u001b[0;31m---------------------------------------------------------------------------\u001b[0m",
      "\u001b[0;31mIndexError\u001b[0m                                Traceback (most recent call last)",
      "Cell \u001b[0;32mIn[5], line 26\u001b[0m\n\u001b[1;32m     24\u001b[0m model \u001b[38;5;241m=\u001b[39m setup\u001b[38;5;241m.\u001b[39mset_boundary_condition_CMB  (model)\n\u001b[1;32m     25\u001b[0m model \u001b[38;5;241m=\u001b[39m setup\u001b[38;5;241m.\u001b[39mset_rays_spherical_symmetry (model)\n\u001b[0;32m---> 26\u001b[0m model \u001b[38;5;241m=\u001b[39m \u001b[43msetup\u001b[49m\u001b[38;5;241;43m.\u001b[39;49m\u001b[43mset_linedata_from_LAMDA_file\u001b[49m\u001b[43m(\u001b[49m\u001b[43mmodel\u001b[49m\u001b[43m,\u001b[49m\u001b[43m \u001b[49m\u001b[43mlamda_file\u001b[49m\u001b[43m)\u001b[49m\n\u001b[1;32m     27\u001b[0m model \u001b[38;5;241m=\u001b[39m setup\u001b[38;5;241m.\u001b[39mset_quadrature              (model)\n\u001b[1;32m     29\u001b[0m \u001b[38;5;66;03m# Write and read model to initialize all variables\u001b[39;00m\n",
      "File \u001b[0;32m~/opt/anaconda3/envs/magritte/lib/python3.9/site-packages/magritte/setup.py:633\u001b[0m, in \u001b[0;36mset_linedata_from_LAMDA_file\u001b[0;34m(model, fileNames, config)\u001b[0m\n\u001b[1;32m    631\u001b[0m \u001b[38;5;66;03m# Loop over the collision partners\u001b[39;00m\n\u001b[1;32m    632\u001b[0m \u001b[38;5;28;01mfor\u001b[39;00m c \u001b[38;5;129;01min\u001b[39;00m \u001b[38;5;28mrange\u001b[39m(ncolpar):\n\u001b[0;32m--> 633\u001b[0m     num_col_partner \u001b[38;5;241m=\u001b[39m \u001b[43mrd\u001b[49m\u001b[38;5;241;43m.\u001b[39;49m\u001b[43mextractCollisionPartner\u001b[49m\u001b[43m(\u001b[49m\u001b[43mline\u001b[49m\u001b[38;5;241;43m=\u001b[39;49m\u001b[43mind\u001b[49m\u001b[43m,\u001b[49m\u001b[43m \u001b[49m\u001b[43mspecies\u001b[49m\u001b[38;5;241;43m=\u001b[39;49m\u001b[43mspecies\u001b[49m\u001b[43m,\u001b[49m\u001b[43m \u001b[49m\u001b[43melem\u001b[49m\u001b[38;5;241;43m=\u001b[39;49m\u001b[43msym\u001b[49m\u001b[43m)\u001b[49m[\u001b[38;5;241m0\u001b[39m]\n\u001b[1;32m    634\u001b[0m     orth_or_para_H2 \u001b[38;5;241m=\u001b[39m rd\u001b[38;5;241m.\u001b[39mextractCollisionPartner(line\u001b[38;5;241m=\u001b[39mind, species\u001b[38;5;241m=\u001b[39mspecies, elem\u001b[38;5;241m=\u001b[39msym)[\u001b[38;5;241m1\u001b[39m]\n\u001b[1;32m    635\u001b[0m     ncol            \u001b[38;5;241m=\u001b[39m rd\u001b[38;5;241m.\u001b[39mreadColumn(start\u001b[38;5;241m=\u001b[39mind\u001b[38;5;241m+\u001b[39m\u001b[38;5;241m2\u001b[39m, nElem\u001b[38;5;241m=\u001b[39m\u001b[38;5;241m1\u001b[39m,    columnNr\u001b[38;5;241m=\u001b[39m\u001b[38;5;241m0\u001b[39m,   \u001b[38;5;28mtype\u001b[39m\u001b[38;5;241m=\u001b[39m\u001b[38;5;124m'\u001b[39m\u001b[38;5;124mint\u001b[39m\u001b[38;5;124m'\u001b[39m)[\u001b[38;5;241m0\u001b[39m]\n",
      "File \u001b[0;32m~/opt/anaconda3/envs/magritte/lib/python3.9/site-packages/magritte/setup.py:548\u001b[0m, in \u001b[0;36mLamdaFileReader.extractCollisionPartner\u001b[0;34m(self, line, species, elem)\u001b[0m\n\u001b[1;32m    546\u001b[0m \u001b[38;5;28;01mwith\u001b[39;00m \u001b[38;5;28mopen\u001b[39m (\u001b[38;5;28mself\u001b[39m\u001b[38;5;241m.\u001b[39mfileName) \u001b[38;5;28;01mas\u001b[39;00m dataFile:\n\u001b[1;32m    547\u001b[0m     data \u001b[38;5;241m=\u001b[39m dataFile\u001b[38;5;241m.\u001b[39mreadlines ()\n\u001b[0;32m--> 548\u001b[0m partner   \u001b[38;5;241m=\u001b[39m \u001b[43mre\u001b[49m\u001b[38;5;241;43m.\u001b[39;49m\u001b[43mfindall\u001b[49m\u001b[43m \u001b[49m\u001b[43m(\u001b[49m\u001b[43melem\u001b[49m\u001b[38;5;241;43m.\u001b[39;49m\u001b[43mreplace\u001b[49m\u001b[43m \u001b[49m\u001b[43m(\u001b[49m\u001b[38;5;124;43m'\u001b[39;49m\u001b[38;5;124;43m+\u001b[39;49m\u001b[38;5;124;43m'\u001b[39;49m\u001b[43m,\u001b[49m\u001b[38;5;124;43m'\u001b[39;49m\u001b[38;5;124;43m\\\u001b[39;49m\u001b[38;5;124;43m+\u001b[39;49m\u001b[38;5;124;43m'\u001b[39;49m\u001b[43m)\u001b[49m\u001b[38;5;241;43m+\u001b[39;49m\u001b[38;5;124;43m'\u001b[39;49m\u001b[38;5;124;43m\\\u001b[39;49m\u001b[38;5;124;43ms*[\u001b[39;49m\u001b[38;5;124;43m\\\u001b[39;49m\u001b[38;5;124;43m+\u001b[39;49m\u001b[38;5;124;43m\\\u001b[39;49m\u001b[38;5;124;43m-]?\u001b[39;49m\u001b[38;5;124;43m\\\u001b[39;49m\u001b[38;5;124;43ms*([\u001b[39;49m\u001b[38;5;124;43m\\\u001b[39;49m\u001b[38;5;124;43mw\u001b[39;49m\u001b[38;5;124;43m\\\u001b[39;49m\u001b[38;5;124;43m+\u001b[39;49m\u001b[38;5;124;43m\\\u001b[39;49m\u001b[38;5;124;43m-]+)\u001b[39;49m\u001b[38;5;124;43m\\\u001b[39;49m\u001b[38;5;124;43ms*\u001b[39;49m\u001b[38;5;124;43m'\u001b[39;49m\u001b[43m,\u001b[49m\u001b[43m \u001b[49m\u001b[43mdata\u001b[49m\u001b[43m[\u001b[49m\u001b[43mline\u001b[49m\u001b[43m]\u001b[49m\u001b[43m)\u001b[49m\u001b[43m[\u001b[49m\u001b[38;5;241;43m0\u001b[39;49m\u001b[43m]\u001b[49m\n\u001b[1;32m    549\u001b[0m excess    \u001b[38;5;241m=\u001b[39m re\u001b[38;5;241m.\u001b[39mfindall (\u001b[38;5;124m'\u001b[39m\u001b[38;5;124m[op]\u001b[39m\u001b[38;5;124m\\\u001b[39m\u001b[38;5;124m-?\u001b[39m\u001b[38;5;124m'\u001b[39m, partner)\n\u001b[1;32m    550\u001b[0m \u001b[38;5;28;01mif\u001b[39;00m (\u001b[38;5;28mlen\u001b[39m (excess) \u001b[38;5;241m>\u001b[39m \u001b[38;5;241m0\u001b[39m):\n",
      "\u001b[0;31mIndexError\u001b[0m: list index out of range"
     ]
    }
   ],
   "source": [
    "# Set up a spherically symmetric Magritte model with the parameters defined above\n",
    "model = magritte.Model ()\n",
    "model.parameters.set_spherical_symmetry(True)\n",
    "model.parameters.set_model_name        (model_file)\n",
    "model.parameters.set_dimension         (1)\n",
    "model.parameters.set_npoints           (npoints)\n",
    "model.parameters.set_nrays             (48)\n",
    "model.parameters.set_nspecs            (3)\n",
    "model.parameters.set_nlspecs           (1)\n",
    "model.parameters.set_nquads            (11)\n",
    "model.parameters.pop_prec              =1e-4\n",
    "\n",
    "model.geometry.points.position.set([[r,                      0, 0] for r in rs])\n",
    "model.geometry.points.velocity.set([[v/constants.c.si.value, 0, 0] for v in v_r])\n",
    "\n",
    "model.chemistry.species.abundance = [[CO, H2, 0.0] for (CO, H2) in zip(nCO, nH2)]\n",
    "model.chemistry.species.symbol    = ['CO', 'H2', 'e-']\n",
    "\n",
    "model.thermodynamics.temperature.gas  .set( tmp                         )\n",
    "model.thermodynamics.turbulence.vturb2.set((trb/constants.c.si.value)**2)\n",
    "\n",
    "model = setup.set_Delaunay_neighbor_lists (model)\n",
    "model = setup.set_Delaunay_boundary       (model)\n",
    "model = setup.set_boundary_condition_CMB  (model)\n",
    "model = setup.set_rays_spherical_symmetry (model)\n",
    "model = setup.set_linedata_from_LAMDA_file(model, lamda_file)\n",
    "model = setup.set_quadrature              (model)\n",
    "\n",
    "# Write and read model to initialize all variables\n",
    "model.write()\n",
    "model.read ()"
   ]
  },
  {
   "cell_type": "code",
   "execution_count": 7,
   "metadata": {},
   "outputs": [
    {
     "name": "stdout",
     "output_type": "stream",
     "text": [
      "Computing spectral discretisation...\n",
      "Computing inverse line widths...\n",
      "Computing LTE level populations...\n"
     ]
    },
    {
     "data": {
      "text/plain": [
       "0"
      ]
     },
     "execution_count": 7,
     "metadata": {},
     "output_type": "execute_result"
    }
   ],
   "source": [
    "# Initialize model with LTE level populations\n",
    "model.compute_spectral_discretisation ()\n",
    "model.compute_inverse_line_widths     ()\n",
    "model.compute_LTE_level_populations   ()"
   ]
  },
  {
   "cell_type": "code",
   "execution_count": null,
   "metadata": {},
   "outputs": [],
   "source": [
    "# Iterate level populations until statistical equilibrium\n",
    "model.compute_level_populations_sparse (True, 200)"
   ]
  },
  {
   "cell_type": "code",
   "execution_count": 35,
   "metadata": {},
   "outputs": [],
   "source": [
    "# Define the different lines by name, line number, and beam FWHM in arcsec (for the APEX telescope)\n",
    "lines = {'CO32':[2, 17.3], 'CO43':[3, 13.3], 'CO76':[6, 7.7]}\n",
    "\n",
    "# Define the radial velocity of the source (in km/s) so we can shift the model spectrum by this amount\n",
    "v_rad = 9.0\n",
    "\n",
    "# Define a function to calculate chi2\n",
    "def chi2_calc(data_flux, model_flux, sigma):\n",
    "    data_flux = np.array(data_flux)\n",
    "    model_flux = np.array(model_flux)\n",
    "    sigma = np.array(sigma)\n",
    "    chi2 = np.sum((model_flux-data_flux)**2/sigma**2)\n",
    "    return chi2"
   ]
  },
  {
   "cell_type": "code",
   "execution_count": 36,
   "metadata": {},
   "outputs": [
    {
     "name": "stdout",
     "output_type": "stream",
     "text": [
      "Computing spectral discretisation...\n",
      "Computing image...\n",
      "Computing spectral discretisation...\n",
      "Computing image...\n",
      "Computing spectral discretisation...\n",
      "Computing image...\n"
     ]
    }
   ],
   "source": [
    "# Extract spectra from the model for each CO transition\n",
    "for line in lines:\n",
    "    line_nr = lines[line][0]\n",
    "    FWHM = lines[line][1] * units.arcsec\n",
    "    velo, flux_density = np.loadtxt('data/WX_Psc_{}_Jy.dat'.format(line), unpack=True)\n",
    "    mask = np.logical_and(velo > -42.0, velo < 60.0)\n",
    "    nfreqs = len(velo[mask])   # number of velocity elements (same as data)\n",
    "    vpix   = (velo[1]-velo[0])*1e3   # velocity pixel size [m/s]\n",
    "    fcen = model.lines.lineProducingSpecies[0].linedata.frequency[line_nr]  # rest frequency of the given transition\n",
    "    dd   = vpix * (nfreqs-1)/2 / magritte.CC\n",
    "    fmin = fcen - fcen*dd\n",
    "    fmax = fcen + fcen*dd\n",
    "\n",
    "    model.compute_spectral_discretisation(fmin, fmax, nfreqs)\n",
    "    model.compute_image(model.parameters.hnrays()-1)\n",
    "    \n",
    "    # Extract the image data from Magritte\n",
    "    image_nr = -1\n",
    "    imx = np.array(model.images[image_nr].ImX)\n",
    "    imI = np.array(model.images[image_nr].I)\n",
    "\n",
    "    # Calculate integration weights and convert to Jansky from SI units\n",
    "    b  = imx # impact factors\n",
    "    b0 = np.concatenate(([0.0], b))\n",
    "    ds = np.pi * (b0[1:] - b0[:-1]) * (b0[1:] + b0[:-1]) / distance**2 / 1.0e-26\n",
    "\n",
    "    # Calculate beam to convolve with model intensities\n",
    "    FWHM_m = ((FWHM * (distance * units.meter).to(units.parsec)) * units.au).si.value  # convert to meters\n",
    "    sigma  = FWHM_m / (2.0 * np.sqrt(2.0 * np.log(2)))\n",
    "    beam   = np.exp(-0.5*(b/sigma)**2) / (np.sqrt(2.0 * np.pi) * sigma)\n",
    "    beam   = beam / beam[0]  \n",
    "    \n",
    "    # Calculate intensity (flux density in Jy)\n",
    "    I_no_beam  = np.einsum('if, i -> f', imI,        ds)  # total model intensity without taking the beam into account\n",
    "    I          = np.einsum('if, i -> f', imI, beam * ds)  # model intensity as seen with a beam size of <FWHM>\n",
    "    \n",
    "    # Calculate frequencies and hence velocities\n",
    "    freqs = np.array(model.radiation.frequencies.nu)[0]\n",
    "    velos = (freqs - fcen) / fcen * magritte.CC / 1.0e3\n",
    "    \n",
    "    # Save output spectrum\n",
    "    with open('output/WX_Psc_model_{}_Mdot{}_epsilon{}.dat'.format(line, Mdot, epsilon), 'w+') as f:\n",
    "        f.write('#Velocity(km/s),FluxDensity(Jy)\\n')\n",
    "        for i in range(len(velos)):\n",
    "            f.write('{} {}\\n'.format(velos[i], I[i]))"
   ]
  },
  {
   "cell_type": "markdown",
   "metadata": {},
   "source": [
    "Now plot the output model spectra against the data, and calculate the $\\chi^2$ value for goodness of fit"
   ]
  },
  {
   "cell_type": "code",
   "execution_count": 41,
   "metadata": {},
   "outputs": [
    {
     "data": {
      "image/png": "[encoded data removed]",
      "text/plain": [
       "<Figure size 900x400 with 3 Axes>"
      ]
     },
     "metadata": {},
     "output_type": "display_data"
    }
   ],
   "source": [
    "# Define empty lists to add values for the chi2 calculation\n",
    "data_flux  = []\n",
    "model_flux = []\n",
    "sigma = []\n",
    "\n",
    "# Plot all three lines with data vs model\n",
    "fig, axs = plt.subplots(1, 3, figsize=(9,4), sharey='row')\n",
    "for i, line in enumerate(lines):\n",
    "    # Read in data for the given line\n",
    "    velo, flux_density = np.loadtxt('data/WX_Psc_{}_Jy.dat'.format(line), unpack=True)\n",
    "    mask = np.logical_and(velo > -42.0, velo < 60.0)\n",
    "    data_flux += list(flux_density[mask])\n",
    "    rms = np.std(flux_density[:100])\n",
    "    sigma += list(rms*np.ones(len(flux_density[mask])))\n",
    "    \n",
    "    # Read in model for the given line\n",
    "    velo_model, intensity = np.loadtxt('output/WX_Psc_model_{}_Mdot{}_epsilon{}.dat'.format(line, Mdot, epsilon), unpack=True)\n",
    "    model_flux += list(intensity)\n",
    "    \n",
    "    # Plot\n",
    "    axs[i].plot(velo[mask], flux_density[mask], label='data')\n",
    "    axs[i].plot(velo_model+v_rad, intensity, label='model')\n",
    "    axs[i].text(37, 95, line)\n"
   ]
  },
  {
   "cell_type": "code",
   "execution_count": 44,
   "metadata": {},
   "outputs": [
    {
     "ename": "NameError",
     "evalue": "name 'chi2_calc' is not defined",
     "output_type": "error",
     "traceback": [
      "\u001b[0;31m---------------------------------------------------------------------------\u001b[0m",
      "\u001b[0;31mNameError\u001b[0m                                 Traceback (most recent call last)",
      "Cell \u001b[0;32mIn[44], line 1\u001b[0m\n\u001b[0;32m----> 1\u001b[0m chi2 \u001b[38;5;241m=\u001b[39m \u001b[43mchi2_calc\u001b[49m(data_flux, model_flux, sigma)\n\u001b[1;32m      2\u001b[0m \u001b[38;5;28;01mwith\u001b[39;00m \u001b[38;5;28mopen\u001b[39m(\u001b[38;5;124m'\u001b[39m\u001b[38;5;124moutput/WX_Psc_model_results.txt\u001b[39m\u001b[38;5;124m'\u001b[39m, \u001b[38;5;124m'\u001b[39m\u001b[38;5;124ma\u001b[39m\u001b[38;5;124m'\u001b[39m) \u001b[38;5;28;01mas\u001b[39;00m f:\n\u001b[1;32m      3\u001b[0m     f\u001b[38;5;241m.\u001b[39mwrite(\u001b[38;5;124m'\u001b[39m\u001b[38;5;132;01m{}\u001b[39;00m\u001b[38;5;124m, \u001b[39m\u001b[38;5;132;01m{}\u001b[39;00m\u001b[38;5;124m, \u001b[39m\u001b[38;5;132;01m{}\u001b[39;00m\u001b[38;5;130;01m\\n\u001b[39;00m\u001b[38;5;124m'\u001b[39m\u001b[38;5;241m.\u001b[39mformat(Mdot, epsilon, chi2))\n",
      "\u001b[0;31mNameError\u001b[0m: name 'chi2_calc' is not defined"
     ]
    }
   ],
   "source": [
    "# Calculate chi2 and add the result of these particular parameters to the output file\n",
    "chi2 = chi2_calc(data_flux, model_flux, sigma)\n",
    "with open(output_file, 'a') as f:\n",
    "    f.write('{}, {}, {}\\n'.format(Mdot, epsilon, chi2))"
   ]
  },
  {
   "cell_type": "code",
   "execution_count": null,
   "metadata": {},
   "outputs": [],
   "source": []
  }
 ],
 "metadata": {
  "kernelspec": {
   "display_name": "Python 3 (ipykernel)",
   "language": "python",
   "name": "python3"
  },
  "language_info": {
   "codemirror_mode": {
    "name": "ipython",
    "version": 3
   },
   "file_extension": ".py",
   "mimetype": "text/x-python",
   "name": "python",
   "nbconvert_exporter": "python",
   "pygments_lexer": "ipython3",
   "version": "3.9.15"
  }
 },
 "nbformat": 4,
 "nbformat_minor": 4
}
