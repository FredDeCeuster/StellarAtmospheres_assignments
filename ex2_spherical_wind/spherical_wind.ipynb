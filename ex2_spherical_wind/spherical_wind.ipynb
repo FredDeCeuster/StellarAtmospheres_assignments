{
 "cells": [
  {
   "cell_type": "markdown",
   "metadata": {},
   "source": [
    "# 2: Spherical wind\n",
    "-------------------\n"
   ]
  },
  {
   "cell_type": "code",
   "execution_count": 1,
   "metadata": {},
   "outputs": [],
   "source": [
    "import numpy             as np\n",
    "import scipy             as sp\n",
    "import matplotlib.pyplot as plt\n",
    "import magritte.tools    as tools\n",
    "import magritte.setup    as setup\n",
    "import magritte.core     as magritte\n",
    "\n",
    "from astropy import units, constants"
   ]
  },
  {
   "cell_type": "code",
   "execution_count": 2,
   "metadata": {},
   "outputs": [],
   "source": [
    "# Deifne names for the data files\n",
    "model_file = 'output/magritte_spherical_wind.hdf5'\n",
    "lamda_file = 'data/co.txt'"
   ]
  },
  {
   "cell_type": "markdown",
   "metadata": {},
   "source": [
    "If necessary, download the line data file form the [LAMDA database](https://home.strw.leidenuniv.nl/~moldata/)."
   ]
  },
  {
   "cell_type": "code",
   "execution_count": 3,
   "metadata": {},
   "outputs": [
    {
     "name": "stdout",
     "output_type": "stream",
     "text": [
      "--2024-03-01 14:56:16--  https://home.strw.leidenuniv.nl/~moldata/datafiles/co.dat\n",
      "Resolving home.strw.leidenuniv.nl (home.strw.leidenuniv.nl)... 132.229.214.179\n",
      "Connecting to home.strw.leidenuniv.nl (home.strw.leidenuniv.nl)|132.229.214.179|:443... connected.\n",
      "HTTP request sent, awaiting response... 200 OK\n",
      "Length: 444204 (434K)\n",
      "Saving to: ‘data/co_cut_12.txt’\n",
      "\n",
      "data/co_cut_12.txt  100%[===================>] 433.79K  1.11MB/s    in 0.4s    \n",
      "\n",
      "2024-03-01 14:56:17 (1.11 MB/s) - ‘data/co_cut_12.txt’ saved [444204/444204]\n",
      "\n"
     ]
    }
   ],
   "source": [
    "!wget \"https://home.strw.leidenuniv.nl/~moldata/datafiles/co.dat\" --output-document $lamda_file"
   ]
  },
  {
   "cell_type": "markdown",
   "metadata": {},
   "source": [
    "You will modify two parameters to find the best fit model: the mass-loss rate and the power-law exponent of the temperature profile"
   ]
  },
  {
   "cell_type": "code",
   "execution_count": 4,
   "metadata": {},
   "outputs": [],
   "source": [
    "# Define the mass-loss rate (Mdot) and temperature profile exponent (epsilon)\n",
    "Mdot     = (5.0e-5  * units.M_sun/units.yr).si.value\n",
    "epsilon  =  0.5"
   ]
  },
  {
   "cell_type": "code",
   "execution_count": 5,
   "metadata": {},
   "outputs": [],
   "source": [
    "# Now define the other parameters we will need\n",
    "distance = (740     * units.pc            ).si.value  # distance to WX Psc\n",
    "r_star   = (520     * constants.R_sun     ).si.value  # stellar radius\n",
    "r_in     =  1.7     * r_star                          # radius of the inner edge of the circumstellar envelope\n",
    "r_out    = (1.1e+17 * units.cm            ).si.value  # radius of the outer edge of the circumstellar envelope\n",
    "v_inf    = (19.8    * units.km/units.s    ).si.value  # expansion velocity of the envelope\n",
    "T_star   = (2750    * units.K             ).si.value  # effective temperature of the star\n",
    "T_in     = (1000    * units.K             ).si.value  # temperature at r_in = dust condensation temperature\n",
    "xCO      =  1.0e-4                                    # fractional CO abundance (relative to H2)\n",
    "v_turb   = (1.5e+0  * units.km   /units.s ).si.value  # turbulent velocity\n",
    "\n",
    "# Define the number and array of radial points\n",
    "npoints  = 512\n",
    "rs = np.logspace(np.log10(r_in), np.log10(r_out), npoints, dtype=np.float64)\n",
    "\n",
    "# Define the other arrays\n",
    "v_r = v_inf  * np.ones_like(rs)                 # expansion velocity\n",
    "trb = v_turb * np.ones_like(rs)                 # turbulent velocity\n",
    "tmp = T_in * (r_in / rs)**epsilon             # temperature\n",
    "rho = Mdot / (4.0 * np.pi * rs**2 * v_r)        # density\n",
    "nH2 = (constants.N_A.si.value / 2.02e-3) * rho  # H2 density\n",
    "nCO = xCO * nH2                                 # CO density"
   ]
  },
  {
   "cell_type": "code",
   "execution_count": 202,
   "metadata": {},
   "outputs": [
    {
     "name": "stdout",
     "output_type": "stream",
     "text": [
      "Writing parameters...\n",
      "Writing points...\n",
      "Writing rays...\n",
      "Writing boundary...\n",
      "Writing chemistry...\n",
      "Writing species...\n",
      "Writing thermodynamics...\n",
      "Writing temperature...\n",
      "Writing turbulence...\n",
      "Writing lines...\n",
      "Writing lineProducingSpecies...\n",
      "Writing linedata...\n",
      "ncolpoar = 2\n",
      "--- colpoar = 0\n",
      "Writing collisionPartner...\n",
      "(l, c) = 0, 0\n",
      "--- colpoar = 1\n",
      "Writing collisionPartner...\n",
      "(l, c) = 0, 1\n",
      "Writing quadrature...\n",
      "Writing populations...\n",
      "Writing radiation...\n",
      "Writing frequencies...\n",
      "                                           \n",
      "-------------------------------------------\n",
      "  Reading Model...                         \n",
      "-------------------------------------------\n",
      " model file = output/magritte_spherical_wind.hdf5\n",
      "-------------------------------------------\n",
      "Reading parameters...\n",
      "Reading points...\n",
      "Reading rays...\n",
      "Reading boundary...\n",
      "Reading chemistry...\n",
      "Reading species...\n",
      "Reading thermodynamics...\n",
      "Reading temperature...\n",
      "Reading turbulence...\n",
      "Reading lines...\n",
      "Reading lineProducingSpecies...\n",
      "Reading linedata...\n",
      "read num 0\n",
      "read sym CO\n",
      "nlev = 41\n",
      "nrad = 40\n",
      "Reading collisionPartner...\n",
      "Reading collisionPartner...\n",
      "Reading quadrature...\n",
      "Reading radiation...\n",
      "Reading frequencies...\n",
      "Not using scattering!\n",
      "                                           \n",
      "-------------------------------------------\n",
      "  Model read, parameters:                  \n",
      "-------------------------------------------\n",
      "  npoints    = 512\n",
      "  nrays      = 48\n",
      "  nboundary  = 2\n",
      "  nfreqs     = 440\n",
      "  nspecs     = 3\n",
      "  nlspecs    = 1\n",
      "  nlines     = 40\n",
      "  nquads     = 11\n",
      "-------------------------------------------\n",
      "                                           \n"
     ]
    }
   ],
   "source": [
    "# Set up a spherically symmetric Magritte model with the parameters defined above\n",
    "model = magritte.Model ()\n",
    "model.parameters.set_spherical_symmetry(True)\n",
    "model.parameters.set_model_name        (model_file)\n",
    "model.parameters.set_dimension         (1)\n",
    "model.parameters.set_npoints           (npoints)\n",
    "model.parameters.set_nrays             (48)\n",
    "model.parameters.set_nspecs            (3)\n",
    "model.parameters.set_nlspecs           (1)\n",
    "model.parameters.set_nquads            (11)\n",
    "model.parameters.pop_prec              =1e-4\n",
    "\n",
    "model.geometry.points.position.set([[r,                      0, 0] for r in rs])\n",
    "model.geometry.points.velocity.set([[v/constants.c.si.value, 0, 0] for v in v_r])\n",
    "\n",
    "model.chemistry.species.abundance = [[CO, H2, 0.0] for (CO, H2) in zip(nCO, nH2)]\n",
    "model.chemistry.species.symbol    = ['CO', 'H2', 'e-']\n",
    "\n",
    "model.thermodynamics.temperature.gas  .set( tmp                         )\n",
    "model.thermodynamics.turbulence.vturb2.set((trb/constants.c.si.value)**2)\n",
    "\n",
    "model = setup.set_Delaunay_neighbor_lists (model)\n",
    "model = setup.set_Delaunay_boundary       (model)\n",
    "model = setup.set_boundary_condition_CMB  (model)\n",
    "model = setup.set_rays_spherical_symmetry (model)\n",
    "model = setup.set_linedata_from_LAMDA_file(model, lamda_file)\n",
    "model = setup.set_quadrature              (model)\n",
    "\n",
    "# Write and read model to initialize all variables\n",
    "model.write()\n",
    "model.read ()"
   ]
  },
  {
   "cell_type": "code",
   "execution_count": 203,
   "metadata": {},
   "outputs": [
    {
     "name": "stdout",
     "output_type": "stream",
     "text": [
      "Computing spectral discretisation...\n",
      "Computing inverse line widths...\n",
      "Computing LTE level populations...\n"
     ]
    },
    {
     "data": {
      "text/plain": [
       "0"
      ]
     },
     "execution_count": 203,
     "metadata": {},
     "output_type": "execute_result"
    }
   ],
   "source": [
    "# Initialize model with LTE level populations\n",
    "model.compute_spectral_discretisation ()\n",
    "model.compute_inverse_line_widths     ()\n",
    "model.compute_LTE_level_populations   ()"
   ]
  },
  {
   "cell_type": "code",
   "execution_count": 204,
   "metadata": {},
   "outputs": [
    {
     "name": "stdout",
     "output_type": "stream",
     "text": [
      "using ng acceleration? 0\n",
      "Starting iteration 1\n",
      "Computing the radiation field...\n",
      "Computing radiation field..."
     ]
    },
    {
     "data": {
      "text/plain": [
       "7"
      ]
     },
     "execution_count": 204,
     "metadata": {},
     "output_type": "execute_result"
    },
    {
     "name": "stdout",
     "output_type": "stream",
     "text": [
      "\n",
      "--- rr = 0\n",
      "--- rr = 1\n",
      "--- rr = 2\n",
      "--- rr = 3\n",
      "--- rr = 4\n",
      "--- rr = 5\n",
      "--- rr = 6\n",
      "--- rr = 7\n",
      "--- rr = 8\n",
      "--- rr = 9\n",
      "--- rr = 10\n",
      "--- rr = 11\n",
      "--- rr = 12\n",
      "--- rr = 13\n",
      "--- rr = 14\n",
      "--- rr = 15\n",
      "--- rr = 16\n",
      "--- rr = 17\n",
      "--- rr = 18\n",
      "--- rr = 19\n",
      "--- rr = 20\n",
      "--- rr = 21\n",
      "--- rr = 22\n",
      "--- rr = 23\n",
      "Tot | Compute Radiation Field : 18.438404 seconds\n",
      "Minor warning: population inversions detected; Magritte does not handle masers, so setting affected populations to LTE.\n",
      "Tot | Compute Statistical Equilibrium : 0.018644 seconds\n",
      "Already 32.6172 % converged!\n",
      "using ng acceleration? 0\n",
      "Starting iteration 2\n",
      "Computing the radiation field...\n",
      "Computing radiation field...\n",
      "--- rr = 0\n",
      "--- rr = 1\n",
      "--- rr = 2\n",
      "--- rr = 3\n",
      "--- rr = 4\n",
      "--- rr = 5\n",
      "--- rr = 6\n",
      "--- rr = 7\n",
      "--- rr = 8\n",
      "--- rr = 9\n",
      "--- rr = 10\n",
      "--- rr = 11\n",
      "--- rr = 12\n",
      "--- rr = 13\n",
      "--- rr = 14\n",
      "--- rr = 15\n",
      "--- rr = 16\n",
      "--- rr = 17\n",
      "--- rr = 18\n",
      "--- rr = 19\n",
      "--- rr = 20\n",
      "--- rr = 21\n",
      "--- rr = 22\n",
      "--- rr = 23\n",
      "Tot | Compute Radiation Field : 37.481906 seconds\n",
      "Minor warning: population inversions detected; Magritte does not handle masers, so setting affected populations to LTE.\n",
      "Tot | Compute Statistical Equilibrium : 0.034136 seconds\n",
      "Already 69.1263 % converged!\n",
      "using ng acceleration? 0\n",
      "Starting iteration 3\n",
      "Computing the radiation field...\n",
      "Computing radiation field...\n",
      "--- rr = 0\n",
      "--- rr = 1\n",
      "--- rr = 2\n",
      "--- rr = 3\n",
      "--- rr = 4\n",
      "--- rr = 5\n",
      "--- rr = 6\n",
      "--- rr = 7\n",
      "--- rr = 8\n",
      "--- rr = 9\n",
      "--- rr = 10\n",
      "--- rr = 11\n",
      "--- rr = 12\n",
      "--- rr = 13\n",
      "--- rr = 14\n",
      "--- rr = 15\n",
      "--- rr = 16\n",
      "--- rr = 17\n",
      "--- rr = 18\n",
      "--- rr = 19\n",
      "--- rr = 20\n",
      "--- rr = 21\n",
      "--- rr = 22\n",
      "--- rr = 23\n",
      "Tot | Compute Radiation Field : 56.082748 seconds\n",
      "Minor warning: population inversions detected; Magritte does not handle masers, so setting affected populations to LTE.\n",
      "Tot | Compute Statistical Equilibrium : 0.046891 seconds\n",
      "Already 79.8971 % converged!\n",
      "using ng acceleration? 0\n",
      "Starting iteration 4\n",
      "Computing the radiation field...\n",
      "Computing radiation field...\n",
      "--- rr = 0\n",
      "--- rr = 1\n",
      "--- rr = 2\n",
      "--- rr = 3\n",
      "--- rr = 4\n",
      "--- rr = 5\n",
      "--- rr = 6\n",
      "--- rr = 7\n",
      "--- rr = 8\n",
      "--- rr = 9\n",
      "--- rr = 10\n",
      "--- rr = 11\n",
      "--- rr = 12\n",
      "--- rr = 13\n",
      "--- rr = 14\n",
      "--- rr = 15\n",
      "--- rr = 16\n",
      "--- rr = 17\n",
      "--- rr = 18\n",
      "--- rr = 19\n",
      "--- rr = 20\n",
      "--- rr = 21\n",
      "--- rr = 22\n",
      "--- rr = 23\n",
      "Tot | Compute Radiation Field : 74.736422 seconds\n",
      "Minor warning: population inversions detected; Magritte does not handle masers, so setting affected populations to LTE.\n",
      "Tot | Compute Statistical Equilibrium : 0.069057 seconds\n",
      "Already 88.4146 % converged!\n",
      "using ng acceleration? 0\n",
      "Starting iteration 5\n",
      "Computing the radiation field...\n",
      "Computing radiation field...\n",
      "--- rr = 0\n",
      "--- rr = 1\n",
      "--- rr = 2\n",
      "--- rr = 3\n",
      "--- rr = 4\n",
      "--- rr = 5\n",
      "--- rr = 6\n",
      "--- rr = 7\n",
      "--- rr = 8\n",
      "--- rr = 9\n",
      "--- rr = 10\n",
      "--- rr = 11\n",
      "--- rr = 12\n",
      "--- rr = 13\n",
      "--- rr = 14\n",
      "--- rr = 15\n",
      "--- rr = 16\n",
      "--- rr = 17\n",
      "--- rr = 18\n",
      "--- rr = 19\n",
      "--- rr = 20\n",
      "--- rr = 21\n",
      "--- rr = 22\n",
      "--- rr = 23\n",
      "Tot | Compute Radiation Field : 93.616245 seconds\n",
      "Minor warning: population inversions detected; Magritte does not handle masers, so setting affected populations to LTE.\n",
      "Tot | Compute Statistical Equilibrium : 0.083619 seconds\n",
      "Already 93.8024 % converged!\n",
      "using ng acceleration? 0\n",
      "Starting iteration 6\n",
      "Computing the radiation field...\n",
      "Computing radiation field...\n",
      "--- rr = 0\n",
      "--- rr = 1\n",
      "--- rr = 2\n",
      "--- rr = 3\n",
      "--- rr = 4\n",
      "--- rr = 5\n",
      "--- rr = 6\n",
      "--- rr = 7\n",
      "--- rr = 8\n",
      "--- rr = 9\n",
      "--- rr = 10\n",
      "--- rr = 11\n",
      "--- rr = 12\n",
      "--- rr = 13\n",
      "--- rr = 14\n",
      "--- rr = 15\n",
      "--- rr = 16\n",
      "--- rr = 17\n",
      "--- rr = 18\n",
      "--- rr = 19\n",
      "--- rr = 20\n",
      "--- rr = 21\n",
      "--- rr = 22\n",
      "--- rr = 23\n",
      "Tot | Compute Radiation Field : 111.861647 seconds\n",
      "Minor warning: population inversions detected; Magritte does not handle masers, so setting affected populations to LTE.\n",
      "Tot | Compute Statistical Equilibrium : 0.112203 seconds\n",
      "Already 99.4474 % converged!\n",
      "using ng acceleration? 0\n",
      "Starting iteration 7\n",
      "Computing the radiation field...\n",
      "Computing radiation field...\n",
      "--- rr = 0\n",
      "--- rr = 1\n",
      "--- rr = 2\n",
      "--- rr = 3\n",
      "--- rr = 4\n",
      "--- rr = 5\n",
      "--- rr = 6\n",
      "--- rr = 7\n",
      "--- rr = 8\n",
      "--- rr = 9\n",
      "--- rr = 10\n",
      "--- rr = 11\n",
      "--- rr = 12\n",
      "--- rr = 13\n",
      "--- rr = 14\n",
      "--- rr = 15\n",
      "--- rr = 16\n",
      "--- rr = 17\n",
      "--- rr = 18\n",
      "--- rr = 19\n",
      "--- rr = 20\n",
      "--- rr = 21\n",
      "--- rr = 22\n",
      "--- rr = 23\n",
      "Tot | Compute Radiation Field : 130.386149 seconds\n",
      "Minor warning: population inversions detected; Magritte does not handle masers, so setting affected populations to LTE.\n",
      "Tot | Compute Statistical Equilibrium : 0.127666 seconds\n",
      "Already 100 % converged!\n",
      "Converged after 7 iterations\n"
     ]
    }
   ],
   "source": [
    "# Iterate level populations until statistical equilibrium\n",
    "model.compute_level_populations_sparse (True, 200)"
   ]
  },
  {
   "cell_type": "code",
   "execution_count": 205,
   "metadata": {},
   "outputs": [],
   "source": [
    "# Now plot the output model spectra against the data (***currently in Tmb (K) but can be converted to Jy if that's easier!), and calculate the chi2 value for goodness of fit"
   ]
  },
  {
   "cell_type": "code",
   "execution_count": 206,
   "metadata": {},
   "outputs": [],
   "source": [
    "line_nr = 2 # CO (J=3-2)\n",
    "# line_nr = 3 # CO (J=4-3)\n",
    "# line_nr = 6 # CO (J=7-6)"
   ]
  },
  {
   "cell_type": "code",
   "execution_count": 207,
   "metadata": {},
   "outputs": [
    {
     "name": "stdout",
     "output_type": "stream",
     "text": [
      "Computing spectral discretisation...\n"
     ]
    },
    {
     "data": {
      "text/plain": [
       "0"
      ]
     },
     "execution_count": 207,
     "metadata": {},
     "output_type": "execute_result"
    },
    {
     "name": "stdout",
     "output_type": "stream",
     "text": [
      "Computing image...\n"
     ]
    }
   ],
   "source": [
    "nfreqs = 256\n",
    "vpix   = 400.0   # velocity pixel size [m/s]\n",
    "fcen = model.lines.lineProducingSpecies[0].linedata.frequency[line_nr]\n",
    "dd   = vpix * (nfreqs-1)/2 / magritte.CC\n",
    "fmin = fcen - fcen*dd\n",
    "fmax = fcen + fcen*dd\n",
    "\n",
    "model.compute_spectral_discretisation(fmin, fmax, nfreqs)\n",
    "model.compute_image(model.parameters.hnrays()-1)"
   ]
  },
  {
   "cell_type": "code",
   "execution_count": 208,
   "metadata": {},
   "outputs": [],
   "source": [
    "@units.quantity_input(angle='angle', distance='length')\n",
    "def convert_angular_to_spatial(angle, distance):\n",
    "    \"\"\"\n",
    "    Convert angles to distances assuming a certain distance.\n",
    "    \"\"\"\n",
    "    angle    = angle   .to(units.arcsec).value\n",
    "    distance = distance.to(units.pc    ).value\n",
    "    return angle * distance * units.au"
   ]
  },
  {
   "cell_type": "code",
   "execution_count": 209,
   "metadata": {},
   "outputs": [],
   "source": [
    "dist =  740 * units.pc       # distance tot the object\n",
    "FWHM = 17.3 * units.arcsec   # FWHM of the beam\n",
    "\n",
    "# Extract the image data from Magritte\n",
    "image_nr = -1\n",
    "imx = np.array(model.images[image_nr].ImX)\n",
    "imI = np.array(model.images[image_nr].I)\n",
    "\n",
    "# Calculate integration weights (converting to Jansky)\n",
    "b  = imx # impact factors\n",
    "b0 = np.concatenate(([0.0], b))\n",
    "ds = np.pi * (b0[1:] - b0[:-1]) * (b0[1:] + b0[:-1]) / dist.si.value**2 / 1.0e-26\n",
    "\n",
    "# Calculate beam\n",
    "FWHM_m = convert_angular_to_spatial(angle=FWHM, distance=dist).si.value\n",
    "sigma  = FWHM_m / (2.0 * np.sqrt(2.0 * np.log(2)))\n",
    "beam   = np.exp(-0.5*(b/sigma)**2) / (np.sqrt(2.0 * np.pi) * sigma)\n",
    "beam   = beam / beam[0]   # Is this what we want?\n",
    "\n",
    "I_no_beam  = np.einsum('if, i -> f', imI,        ds)\n",
    "I          = np.einsum('if, i -> f', imI, beam * ds)"
   ]
  },
  {
   "cell_type": "code",
   "execution_count": 210,
   "metadata": {},
   "outputs": [],
   "source": [
    "freqs = np.array(model.radiation.frequencies.nu)[0]\n",
    "velos = (freqs - fcen) / fcen * magritte.CC / 1.0e3"
   ]
  },
  {
   "cell_type": "code",
   "execution_count": 211,
   "metadata": {},
   "outputs": [],
   "source": [
    "velo, flux_density = np.loadtxt('data/WX_Psc_CO32_Jy.dat', unpack=True)"
   ]
  },
  {
   "cell_type": "code",
   "execution_count": 212,
   "metadata": {},
   "outputs": [],
   "source": [
    "v_rad = 9.0\n",
    "mask = np.logical_and(velo > -42.0, velo < 60.0)"
   ]
  },
  {
   "cell_type": "code",
   "execution_count": 213,
   "metadata": {},
   "outputs": [
    {
     "data": {
      "text/plain": [
       "[<matplotlib.lines.Line2D at 0x7f5d94453a00>]"
      ]
     },
     "execution_count": 213,
     "metadata": {},
     "output_type": "execute_result"
    },
    {
     "data": {
      "image/png": "[encoded data removed]",
      "text/plain": [
       "<Figure size 432x288 with 1 Axes>"
      ]
     },
     "metadata": {
      "needs_background": "light"
     },
     "output_type": "display_data"
    }
   ],
   "source": [
    "plt.plot(velo[mask], flux_density[mask])\n",
    "plt.plot(velos+v_rad, I)"
   ]
  },
  {
   "cell_type": "code",
   "execution_count": null,
   "metadata": {},
   "outputs": [],
   "source": []
  }
 ],
 "metadata": {
  "kernelspec": {
   "display_name": "Python 3 (ipykernel)",
   "language": "python",
   "name": "python3"
  },
  "language_info": {
   "codemirror_mode": {
    "name": "ipython",
    "version": 3
   },
   "file_extension": ".py",
   "mimetype": "text/x-python",
   "name": "python",
   "nbconvert_exporter": "python",
   "pygments_lexer": "ipython3",
   "version": "3.9.13"
  }
 },
 "nbformat": 4,
 "nbformat_minor": 4
}
