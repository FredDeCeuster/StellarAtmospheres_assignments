{
 "cells": [
  {
   "cell_type": "code",
   "execution_count": 1,
   "metadata": {},
   "outputs": [
    {
     "ename": "ModuleNotFoundError",
     "evalue": "No module named 'astroquery'",
     "output_type": "error",
     "traceback": [
      "\u001b[0;31m---------------------------------------------------------------------------\u001b[0m",
      "\u001b[0;31mModuleNotFoundError\u001b[0m                       Traceback (most recent call last)",
      "Cell \u001b[0;32mIn[1], line 1\u001b[0m\n\u001b[0;32m----> 1\u001b[0m \u001b[38;5;28;01mfrom\u001b[39;00m \u001b[38;5;21;01mastroquery\u001b[39;00m\u001b[38;5;21;01m.\u001b[39;00m\u001b[38;5;21;01mlamda\u001b[39;00m \u001b[38;5;28;01mimport\u001b[39;00m Lamda, parse_lamda_datafile, write_lamda_datafile\n\u001b[1;32m      3\u001b[0m \u001b[38;5;28;01mdef\u001b[39;00m \u001b[38;5;21mcut_lamda_file\u001b[39m(oldfile: \u001b[38;5;28mstr\u001b[39m, newfile: \u001b[38;5;28mstr\u001b[39m, maxlevel: \u001b[38;5;28mint\u001b[39m) \u001b[38;5;241m-\u001b[39m\u001b[38;5;241m>\u001b[39m \u001b[38;5;28;01mNone\u001b[39;00m:\n\u001b[1;32m      4\u001b[0m \t\u001b[38;5;28;01mif\u001b[39;00m oldfile \u001b[38;5;241m==\u001b[39m newfile:\n",
      "\u001b[0;31mModuleNotFoundError\u001b[0m: No module named 'astroquery'"
     ]
    }
   ],
   "source": [
    "from astroquery.lamda import Lamda, parse_lamda_datafile, write_lamda_datafile\n",
    "\n",
    "def cut_lamda_file(oldfile: str, newfile: str, maxlevel: int) -> None:\n",
    "\tif oldfile == newfile:\n",
    "\t\traise ValueError(\"oldfile and newfile must be different\") \n",
    "\tcollis, trans, enlev = parse_lamda_datafile(oldfile)\n",
    "\tallowedcollis = dict()\n",
    "\tfor species, data in collis.items():\n",
    "\t\tallowedcollis[species] = data[data['Upper'] <= maxlevel]\n",
    "\t\tncollisions = len(allowedcollis[species])\n",
    "\t\tallowedcollis[species].meta[\"ntrans\"] = ncollisions\n",
    "\n",
    "\tallowedtrans = trans[trans['Upper'] <= maxlevel]\n",
    "\tntrans = len(allowedtrans)\n",
    "\tprint(allowedtrans.meta)\n",
    "\tallowedtrans.meta[\"radtrans\"] = ntrans\n",
    "\tallowedenlev = enlev[enlev['Level'] <= maxlevel]\n",
    "\tnlev = len(allowedenlev)\n",
    "\tprint(allowedenlev.meta)\n",
    "\tallowedenlev.meta[\"nenergylevels\"] = nlev\n",
    "\twrite_lamda_datafile(newfile, (allowedcollis, allowedtrans, allowedenlev))\n",
    "\n",
    "maxlev = 20\n",
    "cut_lamda_file(\"co.txt\", f\"co_cut_{maxlev}.txt\", maxlev)\n",
    "print(parse_lamda_datafile(f\"co_cut_{maxlev}.txt\"))\n",
    "newcollis, newtrans, newenlev = parse_lamda_datafile(f\"co_cut_{maxlev}.txt\")"
   ]
  },
  {
   "cell_type": "code",
   "execution_count": null,
   "metadata": {},
   "outputs": [],
   "source": []
  }
 ],
 "metadata": {
  "kernelspec": {
   "display_name": "Python 3 (ipykernel)",
   "language": "python",
   "name": "python3"
  },
  "language_info": {
   "codemirror_mode": {
    "name": "ipython",
    "version": 3
   },
   "file_extension": ".py",
   "mimetype": "text/x-python",
   "name": "python",
   "nbconvert_exporter": "python",
   "pygments_lexer": "ipython3",
   "version": "3.9.15"
  }
 },
 "nbformat": 4,
 "nbformat_minor": 4
}
