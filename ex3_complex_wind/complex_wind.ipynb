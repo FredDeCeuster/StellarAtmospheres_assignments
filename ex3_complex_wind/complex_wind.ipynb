{
 "cells": [
  {
   "cell_type": "markdown",
   "metadata": {},
   "source": [
    "# 3: Complex wind\n",
    "-----------------\n",
    "\n",
    "In this exercise we look at the complex wind of $\\pi^{1}\\text{Gru}$."
   ]
  },
  {
   "cell_type": "code",
   "execution_count": 1,
   "metadata": {},
   "outputs": [],
   "source": [
    "import numpy             as np\n",
    "import matplotlib.pyplot as plt\n",
    "import magritte.tools    as tools\n",
    "import magritte.plot     as plot\n",
    "import magritte.setup    as setup\n",
    "import magritte.core     as magritte\n",
    "import magritte.mesher   as mesher\n",
    "\n",
    "from astropy       import units, constants\n",
    "from scipy.spatial import Delaunay"
   ]
  },
  {
   "cell_type": "code",
   "execution_count": 2,
   "metadata": {},
   "outputs": [],
   "source": [
    "# Define names for the data files\n",
    "model_file = 'output/magritte_complex_wind.hdf5'\n",
    "lamda_file = 'data/co.txt'"
   ]
  },
  {
   "cell_type": "markdown",
   "metadata": {},
   "source": [
    "If necessary, download the line data file form the [LAMDA database](https://home.strw.leidenuniv.nl/~moldata/)."
   ]
  },
  {
   "cell_type": "code",
   "execution_count": 3,
   "metadata": {},
   "outputs": [
    {
     "name": "stdout",
     "output_type": "stream",
     "text": [
      "--2024-02-13 12:47:52--  https://home.strw.leidenuniv.nl/~moldata/datafiles/co.dat\n",
      "Resolving home.strw.leidenuniv.nl (home.strw.leidenuniv.nl)... 132.229.214.179\n",
      "Connecting to home.strw.leidenuniv.nl (home.strw.leidenuniv.nl)|132.229.214.179|:443... connected.\n",
      "HTTP request sent, awaiting response... 200 OK\n",
      "Length: 444204 (434K)\n",
      "Saving to: ‘data/co.txt’\n",
      "\n",
      "data/co.txt         100%[===================>] 433.79K  --.-KB/s    in 0.07s   \n",
      "\n",
      "2024-02-13 12:47:52 (5.81 MB/s) - ‘data/co.txt’ saved [444204/444204]\n",
      "\n"
     ]
    }
   ],
   "source": [
    "!wget \"https://home.strw.leidenuniv.nl/~moldata/datafiles/co.dat\" --output-document $lamda_file"
   ]
  },
  {
   "cell_type": "code",
   "execution_count": 4,
   "metadata": {},
   "outputs": [],
   "source": [
    "# Define model parameters\n",
    "r_in  = (  65.0 * units.au        ).si.value  # inner boundary of the model\n",
    "r_out = (3300.0 * units.au        ).si.value  # outer boundary of the model\n",
    "R1    = (2000.0 * units.au        ).si.value  # outer radius of the torus\n",
    "R3    = (3300.0 * units.au        ).si.value  # outer radius of the bipolar wind\n",
    "d     = ( 270.0 * units.au        ).si.value  # inner diameter of the torus\n",
    "h     = ( 130.0 * units.au        ).si.value  # h/2 = starting radius of the bipolar wind\n",
    "φ0    = (  90.0 * units.deg       ).si.value  # 2φ0 = opening angle of the flared disk torus\n",
    "v1a   = (   8.0 * units.km/units.s).si.value  # constant for the velocity profile of the torus\n",
    "v1b   = (   5.0 * units.km/units.s).si.value  # constant for the velocity profile of the torus\n",
    "v3a   = (  11.0 * units.km/units.s).si.value  # constant for the velocity profile of the bipolar outflow\n",
    "v3b   = (  89.0 * units.km/units.s).si.value  # constant for the velocity profile of the bipolar outflow\n",
    "T0    = ( 190.0 * units.K         ).si.value  # initial temperature at r = 1e15 cm = h/2\n",
    "n1a   = (9.0e+7 * units.cm**(-3)  ).si.value  # scaling factor for the density profile of the torus\n",
    "n3a   = (6.0e+7 * units.cm**(-3)  ).si.value  # scaling factor for the density profile of the bipolar wind\n",
    "fφ0   =  2.5                                  # value of fφ at the top and bottom edges of the torus\n",
    "α     =  0.0                                  # -3+α = exponent of the density profile of the bipolar wind\n",
    "β     = -0.15                                 # -0.7+β = exponent of the temperature profile\n",
    "\n",
    "X_CO   =  6.5e-4   # fractional abundance of CO relative to H2 (Knapp et al. 1999)\n",
    "v_turb = (2.0 * units.km/units.s).si.value    # turbulent velocity\n",
    "\n",
    "\n",
    "def cartesian_to_spherical(x, y, z):\n",
    "    \"\"\"\n",
    "    Convert cartesian to spherical coordinates.\n",
    "    \"\"\"\n",
    "    r = np.sqrt(x**2 + y**2 + z**2)\n",
    "    φ = np.pi/2 - np.arccos(z / r)\n",
    "    θ = np.arctan2(y, x)\n",
    "    return (r, φ, θ)\n",
    "\n",
    "\n",
    "def fφ(φ):\n",
    "    \"\"\"\n",
    "    Linear function, used to define the torus shape (Doan et al. 2017).\n",
    "    \"\"\"\n",
    "    return 1.0 + np.abs(φ/φ0) * fφ0 \n",
    "\n",
    "\n",
    "def mask_1(r, φ, θ):\n",
    "    \"\"\"\n",
    "    Mask for component 1: torus.\n",
    "    \"\"\"\n",
    "    return np.logical_and(r > d/2, r < R1, np.abs(φ) < φ0)\n",
    "\n",
    "\n",
    "def mask_3(r, φ, θ):\n",
    "    \"\"\"\n",
    "    Mask for component 3: bipolar outflow.\n",
    "    \"\"\"\n",
    "    return np.logical_and(r > h/2, r < R3, np.abs(φ) > φ0)\n",
    "\n",
    "\n",
    "def number_density_H2(x, y, z):\n",
    "    \"\"\"\n",
    "    H2 number density distributions\n",
    "    \"\"\"\n",
    "    r, φ, θ = cartesian_to_spherical(x, y, z)\n",
    "    # Get the masks for the different components\n",
    "    m1 = mask_1(r, φ, θ)\n",
    "    m3 = mask_3(r, φ, θ)\n",
    "    # Initialize the number density array\n",
    "    nH2 = np.zeros_like(r)\n",
    "    # H2 number density distribution of the torus\n",
    "    n1 = n1a * (r / (1.0e+15 * units.cm).si.value)**(-3) * 1.0 / fφ(φ)\n",
    "    # H2 number density distribution of the bipolar outflow\n",
    "    n3 = n3a * (r / (1.0e+15 * units.cm).si.value)**(-3+α)\n",
    "    # Apply masks\n",
    "    nH2[m1] = n1[m1]\n",
    "    # nH2[m3] = n3[m3]\n",
    "    # Return the H2 number density\n",
    "    return nH2\n",
    "\n",
    "\n",
    "def velocity(x, y, z):\n",
    "    \"\"\"\n",
    "    Velocity distributions\n",
    "    \"\"\"\n",
    "    r, φ, θ = cartesian_to_spherical(x, y, z)\n",
    "    # Get the masks for the different components\n",
    "    m1 = mask_1(r, φ, θ)\n",
    "    m3 = mask_3(r, φ, θ)\n",
    "    # Initialize the velocity array\n",
    "    vr = np.zeros_like(r)\n",
    "    # Radial velocity of component one, Eq. (1) in Doan et al. (2017)\n",
    "    v1 = (v1a + v1b * r / R1) * fφ(φ)\n",
    "    # Radial velocity of component one, Eq. (2) in Doan et al. (2017)\n",
    "    v3 =  v3a + v3b * z / R3\n",
    "    # Apply masks\n",
    "    vr[m1] = v1[m1]\n",
    "    vr[m3] = v3[m3]\n",
    "    # Return the three cartesian components of the velocity vector\n",
    "    return np.array((vr*x/r, vr*y/r, vr*z/r)).T\n",
    "\n",
    "\n",
    "def temperature(x, y, z):\n",
    "    \"\"\"\n",
    "    Temperature distribution.\n",
    "    \"\"\"\n",
    "    r, φ, θ = cartesian_to_spherical(x, y, z)\n",
    "    # Temperature distribution\n",
    "    return T0 * (r / (1.0e+15 * units.cm).si.value)**(-0.7+β)"
   ]
  },
  {
   "cell_type": "markdown",
   "metadata": {},
   "source": [
    "Create a point cloud for the model."
   ]
  },
  {
   "cell_type": "code",
   "execution_count": 5,
   "metadata": {},
   "outputs": [
    {
     "name": "stdout",
     "output_type": "stream",
     "text": [
      "new interior points:  22310\n",
      "number boundary points:  1538\n"
     ]
    }
   ],
   "source": [
    "resolution = 75\n",
    "\n",
    "# Create coordinate axis for the background mesh\n",
    "xs = np.linspace(-r_out, +r_out, resolution, endpoint=True)\n",
    "ys = np.linspace(-r_out, +r_out, resolution, endpoint=True)\n",
    "zs = np.linspace(-r_out, +r_out, resolution, endpoint=True)\n",
    "\n",
    "# Create a background mesh\n",
    "(Xs, Ys, Zs) = np.meshgrid(xs, ys, zs)\n",
    "\n",
    "# Extract positions of points in background mesh\n",
    "position = np.array((Xs.ravel(), Ys.ravel(), Zs.ravel())).T\n",
    "\n",
    "# Evaluate a tracer (here the H2 number density density) on the background mesh\n",
    "tracer      = number_density_H2(Xs, Ys, Zs)\n",
    "tracer_min  = np.min(tracer[tracer!=0.0])   # Find smallest non-zero value\n",
    "tracer     += tracer_min                    # add smallest non-zero value to avoid zeros\n",
    "\n",
    "# Create a point cloud for the model\n",
    "positions_reduced, nb_boundary = mesher.remesh_point_cloud(\n",
    "    positions = position,\n",
    "    data      = tracer.ravel(),\n",
    "    max_depth = 10,\n",
    "    threshold = 2.0e-1,\n",
    "    hullorder = 4\n",
    ")\n",
    "\n",
    "# Add inner boundary to the model\n",
    "positions_reduced, nb_boundary = mesher.point_cloud_add_spherical_inner_boundary(\n",
    "    remeshed_positions = positions_reduced,\n",
    "    nb_boundary        = nb_boundary,\n",
    "    radius             = r_in,\n",
    "    healpy_order       = 5,\n",
    "    origin             = np.array([0.0, 0.0, 0.0]).T\n",
    ")\n",
    "\n",
    "# Add outer boundary to the model\n",
    "positions_reduced, nb_boundary = mesher.point_cloud_add_spherical_outer_boundary(\n",
    "    remeshed_positions = positions_reduced,\n",
    "    nb_boundary        = nb_boundary,\n",
    "    radius             = r_out,\n",
    "    healpy_order       = 15,\n",
    "    origin             = np.array([0.0, 0.0, 0.0]).T\n",
    ")\n",
    "\n",
    "# Numbenr of points in the model\n",
    "npoints = len(positions_reduced)\n",
    "\n",
    "# Extract Delaunay vertices (= Voronoi neighbors)\n",
    "delaunay = Delaunay(positions_reduced)\n",
    "(indptr, indices) = delaunay.vertex_neighbor_vertices\n",
    "neighbors = [indices[indptr[k]:indptr[k+1]] for k in range(npoints)]\n",
    "nbs       = [n for sublist in neighbors for n in sublist]\n",
    "n_nbs     = [len(sublist) for sublist in neighbors]"
   ]
  },
  {
   "cell_type": "code",
   "execution_count": 6,
   "metadata": {},
   "outputs": [],
   "source": [
    "position = positions_reduced\n",
    "velocity = velocity         (position[:,0], position[:,1], position[:,2])\n",
    "tmp      = temperature      (position[:,0], position[:,1], position[:,2])\n",
    "nH2      = number_density_H2(position[:,0], position[:,1], position[:,2])\n",
    "nCO      = X_CO * nH2\n",
    "trb      = v_turb * np.ones (npoints)"
   ]
  },
  {
   "cell_type": "code",
   "execution_count": 8,
   "metadata": {},
   "outputs": [
    {
     "name": "stdout",
     "output_type": "stream",
     "text": [
      "Writing parameters...\n",
      "Writing points...\n",
      "Writing rays...\n",
      "Writing boundary...\n",
      "Writing chemistry...\n",
      "Writing species...\n",
      "Writing thermodynamics...\n",
      "Writing temperature...\n",
      "Writing turbulence...\n",
      "Writing lines...\n",
      "Writing lineProducingSpecies...\n",
      "Writing linedata...\n",
      "ncolpoar = 2\n",
      "--- colpoar = 0\n",
      "Writing collisionPartner...\n",
      "(l, c) = 0, 0\n",
      "--- colpoar = 1\n",
      "Writing collisionPartner...\n",
      "(l, c) = 0, 1\n",
      "Writing quadrature...\n",
      "Writing populations...\n",
      "Writing radiation...\n",
      "Writing frequencies...\n",
      "                                           \n",
      "-------------------------------------------\n",
      "  Reading Model...                         \n",
      "-------------------------------------------\n",
      " model file = output/magritte_complex_wind.hdf5\n",
      "-------------------------------------------\n",
      "Reading parameters...\n",
      "Reading points...\n",
      "Reading rays...\n",
      "Reading boundary...\n",
      "Reading chemistry...\n",
      "Reading species...\n",
      "Reading thermodynamics...\n",
      "Reading temperature...\n",
      "Reading turbulence...\n",
      "Reading lines...\n",
      "Reading lineProducingSpecies...\n",
      "Reading linedata...\n",
      "read num 0\n",
      "read sym CO\n",
      "nlev = 41\n",
      "nrad = 40\n",
      "Reading collisionPartner...\n",
      "Reading collisionPartner...\n",
      "Reading quadrature...\n",
      "Reading radiation...\n",
      "Reading frequencies...\n",
      "Not using scattering!\n",
      "                                           \n",
      "-------------------------------------------\n",
      "  Model read, parameters:                  \n",
      "-------------------------------------------\n",
      "  npoints    = 25253\n",
      "  nrays      = 12\n",
      "  nboundary  = 3000\n",
      "  nfreqs     = 200\n",
      "  nspecs     = 3\n",
      "  nlspecs    = 1\n",
      "  nlines     = 40\n",
      "  nquads     = 5\n",
      "-------------------------------------------\n",
      "                                           \n"
     ]
    }
   ],
   "source": [
    "model = magritte.Model ()                      # Create model object\n",
    "\n",
    "model.parameters.set_model_name (model_file)   # Magritte model file\n",
    "model.parameters.set_dimension  (3)            # This is a 3D model\n",
    "model.parameters.set_npoints    (npoints)      # Number of points\n",
    "model.parameters.set_nrays      (12)           # Number of rays\n",
    "model.parameters.set_nspecs     (3)            # Number of species (min. 5)\n",
    "model.parameters.set_nlspecs    (1)            # Number of line species\n",
    "model.parameters.set_nquads     (5)            # Number of quadrature points\n",
    "\n",
    "model.geometry.points.position.set(position)\n",
    "model.geometry.points.velocity.set(velocity / constants.c.si.value)   # velocities w.r.t. speed of light \n",
    "\n",
    "model.geometry.points.  neighbors.set(  nbs)\n",
    "model.geometry.points.n_neighbors.set(n_nbs)\n",
    "\n",
    "model.chemistry.species.abundance = np.array((nCO, nH2, np.zeros(npoints))).T\n",
    "model.chemistry.species.symbol    = ['CO', 'H2', 'e-']\n",
    "\n",
    "model.thermodynamics.temperature.gas  .set( tmp                         )\n",
    "model.thermodynamics.turbulence.vturb2.set((trb/constants.c.si.value)**2)\n",
    "\n",
    "model.parameters.set_nboundary(nb_boundary)\n",
    "model.geometry.boundary.boundary2point.set(np.arange(nb_boundary))\n",
    "\n",
    "# direction = np.array([[+1,0,0], [-1,0,0]])            # Comment out to use all directions\n",
    "# model.geometry.rays.direction.set(direction)          # Comment out to use all directions\n",
    "# model.geometry.rays.weight   .set(0.5 * np.ones(2))   # Comment out to use all directions\n",
    "\n",
    "model = setup.set_uniform_rays            (model)   # Uncomment to use all directions\n",
    "model = setup.set_boundary_condition_CMB  (model)\n",
    "# model = setup.set_linedata_from_LAMDA_file(model, lamda_file, {'considered transitions': [0]})\n",
    "model = setup.set_linedata_from_LAMDA_file(model, lamda_file)   # Consider all transitions\n",
    "model = setup.set_quadrature              (model)\n",
    "\n",
    "# Write and read model to initialize all variables\n",
    "model.write()\n",
    "model.read ()"
   ]
  },
  {
   "cell_type": "code",
   "execution_count": 9,
   "metadata": {},
   "outputs": [
    {
     "name": "stdout",
     "output_type": "stream",
     "text": [
      "Computing spectral discretisation...\n"
     ]
    },
    {
     "data": {
      "text/plain": [
       "0"
      ]
     },
     "execution_count": 9,
     "metadata": {},
     "output_type": "execute_result"
    },
    {
     "name": "stdout",
     "output_type": "stream",
     "text": [
      "Computing inverse line widths...\n",
      "Computing LTE level populations...\n"
     ]
    }
   ],
   "source": [
    "# Initialize model with LTE level populations\n",
    "model.compute_spectral_discretisation ()\n",
    "model.compute_inverse_line_widths     ()\n",
    "model.compute_LTE_level_populations   ()"
   ]
  },
  {
   "cell_type": "code",
   "execution_count": 10,
   "metadata": {},
   "outputs": [
    {
     "name": "stdout",
     "output_type": "stream",
     "text": [
      "Starting iteration 0\n",
      "CPU times: user 28min 16s, sys: 16.5 s, total: 28min 32s\n",
      "Wall time: 28min 25s\n",
      "using ng acceleration? 0\n",
      "Computing the radiation field...\n",
      "Computing radiation field...\n",
      "--- rr = 0\n",
      "--- rr = 1\n",
      "--- rr = 2\n",
      "--- rr = 3\n",
      "--- rr = 4\n",
      "--- rr = 5\n",
      "Tot | Compute Radiation Field : 84.628134 seconds\n",
      "Tot | Compute Statistical Equilibrium : 0.964753 seconds\n",
      "Already 83.8666 % converged!\n",
      "Starting iteration 1\n",
      "using ng acceleration? 0\n",
      "Computing the radiation field...\n",
      "Computing radiation field...\n",
      "--- rr = 0\n",
      "--- rr = 1\n",
      "--- rr = 2\n",
      "--- rr = 3\n",
      "--- rr = 4\n",
      "--- rr = 5\n",
      "Tot | Compute Radiation Field : 167.882517 seconds\n",
      "Tot | Compute Statistical Equilibrium : 1.888642 seconds\n",
      "Already 83.941 % converged!\n",
      "Starting iteration 2\n",
      "using ng acceleration? 0\n",
      "Computing the radiation field...\n",
      "Computing radiation field...\n",
      "--- rr = 0\n",
      "--- rr = 1\n",
      "--- rr = 2\n",
      "--- rr = 3\n",
      "--- rr = 4\n",
      "--- rr = 5\n",
      "Tot | Compute Radiation Field : 253.081618 seconds\n",
      "Tot | Compute Statistical Equilibrium : 2.807361 seconds\n",
      "Already 83.9629 % converged!\n",
      "Starting iteration 3\n",
      "using ng acceleration? 1\n",
      "Ng acceleration max order: 3 used order: 2\n",
      "Already 84.0081 % converged!\n",
      "Starting iteration 3\n",
      "using ng acceleration? 0\n",
      "Computing the radiation field...\n",
      "Computing radiation field...\n",
      "--- rr = 0\n",
      "--- rr = 1\n",
      "--- rr = 2\n",
      "--- rr = 3\n",
      "--- rr = 4\n",
      "--- rr = 5\n",
      "Tot | Compute Radiation Field : 335.814261 seconds\n",
      "Tot | Compute Statistical Equilibrium : 3.669044 seconds\n",
      "Already 84.1091 % converged!\n",
      "Starting iteration 4\n",
      "using ng acceleration? 0\n",
      "Computing the radiation field...\n",
      "Computing radiation field...\n",
      "--- rr = 0\n",
      "--- rr = 1\n",
      "--- rr = 2\n",
      "--- rr = 3\n",
      "--- rr = 4\n",
      "--- rr = 5\n",
      "Tot | Compute Radiation Field : 417.306024 seconds\n",
      "Tot | Compute Statistical Equilibrium : 4.608674 seconds\n",
      "Already 84.7343 % converged!\n",
      "Starting iteration 5\n",
      "using ng acceleration? 0\n",
      "Computing the radiation field...\n",
      "Computing radiation field...\n",
      "--- rr = 0\n",
      "--- rr = 1\n",
      "--- rr = 2\n",
      "--- rr = 3\n",
      "--- rr = 4\n",
      "--- rr = 5\n",
      "Tot | Compute Radiation Field : 499.587400 seconds\n",
      "Tot | Compute Statistical Equilibrium : 5.466128 seconds\n",
      "Already 86.2473 % converged!\n",
      "Starting iteration 6\n",
      "using ng accelerat"
     ]
    },
    {
     "data": {
      "text/plain": [
       "20"
      ]
     },
     "execution_count": 10,
     "metadata": {},
     "output_type": "execute_result"
    },
    {
     "name": "stdout",
     "output_type": "stream",
     "text": [
      "ion? 1\n",
      "Ng acceleration max order: 3 used order: 2\n",
      "Already 87.4039 % converged!\n",
      "Starting iteration 6\n",
      "using ng acceleration? 0\n",
      "Computing the radiation field...\n",
      "Computing radiation field...\n",
      "--- rr = 0\n",
      "--- rr = 1\n",
      "--- rr = 2\n",
      "--- rr = 3\n",
      "--- rr = 4\n",
      "--- rr = 5\n",
      "Tot | Compute Radiation Field : 583.206821 seconds\n",
      "Tot | Compute Statistical Equilibrium : 6.318240 seconds\n",
      "Already 89.4783 % converged!\n",
      "Starting iteration 7\n",
      "using ng acceleration? 0\n",
      "Computing the radiation field...\n",
      "Computing radiation field...\n",
      "--- rr = 0\n",
      "--- rr = 1\n",
      "--- rr = 2\n",
      "--- rr = 3\n",
      "--- rr = 4\n",
      "--- rr = 5\n",
      "Tot | Compute Radiation Field : 666.634033 seconds\n",
      "Tot | Compute Statistical Equilibrium : 7.178121 seconds\n",
      "Already 93.9211 % converged!\n",
      "Starting iteration 8\n",
      "using ng acceleration? 0\n",
      "Computing the radiation field...\n",
      "Computing radiation field...\n",
      "--- rr = 0\n",
      "--- rr = 1\n",
      "--- rr = 2\n",
      "--- rr = 3\n",
      "--- rr = 4\n",
      "--- rr = 5\n",
      "Tot | Compute Radiation Field : 751.224454 seconds\n",
      "Tot | Compute Statistical Equilibrium : 8.096218 seconds\n",
      "Already 95.4524 % converged!\n",
      "Starting iteration 9\n",
      "using ng acceleration? 1\n",
      "Ng acceleration max order: 3 used order: 2\n",
      "Already 96.6701 % converged!\n",
      "Starting iteration 9\n",
      "using ng acceleration? 0\n",
      "Computing the radiation field...\n",
      "Computing radiation field...\n",
      "--- rr = 0\n",
      "--- rr = 1\n",
      "--- rr = 2\n",
      "--- rr = 3\n",
      "--- rr = 4\n",
      "--- rr = 5\n",
      "Tot | Compute Radiation Field : 836.737814 seconds\n",
      "Tot | Compute Statistical Equilibrium : 9.033119 seconds\n",
      "Already 96.4409 % converged!\n",
      "Starting iteration 10\n",
      "using ng acceleration? 0\n",
      "Computing the radiation field...\n",
      "Computing radiation field...\n",
      "--- rr = 0\n",
      "--- rr = 1\n",
      "--- rr = 2\n",
      "--- rr = 3\n",
      "--- rr = 4\n",
      "--- rr = 5\n",
      "Tot | Compute Radiation Field : 924.055717 seconds\n",
      "Tot | Compute Statistical Equilibrium : 9.981080 seconds\n",
      "Already 96.7728 % converged!\n",
      "Starting iteration 11\n",
      "using ng acceleration? 0\n",
      "Computing the radiation field...\n",
      "Computing radiation field...\n",
      "--- rr = 0\n",
      "--- rr = 1\n",
      "--- rr = 2\n",
      "--- rr = 3\n",
      "--- rr = 4\n",
      "--- rr = 5\n",
      "Tot | Compute Radiation Field : 1007.443204 seconds\n",
      "Tot | Compute Statistical Equilibrium : 10.895641 seconds\n",
      "Already 96.9385 % converged!\n",
      "Starting iteration 12\n",
      "using ng acceleration? 1\n",
      "Ng acceleration max order: 3 used order: 2\n",
      "Already 97.2858 % converged!\n",
      "Starting iteration 12\n",
      "using ng acceleration? 0\n",
      "Computing the radiation field...\n",
      "Computing radiation field...\n",
      "--- rr = 0\n",
      "--- rr = 1\n",
      "--- rr = 2\n",
      "--- rr = 3\n",
      "--- rr = 4\n",
      "--- rr = 5\n",
      "Tot | Compute Radiation Field : 1089.868374 seconds\n",
      "Tot | Compute Statistical Equilibrium : 11.798750 seconds\n",
      "Already 96.8257 % converged!\n",
      "Starting iteration 13\n",
      "using ng acceleration? 0\n",
      "Computing the radiation field...\n",
      "Computing radiation field...\n",
      "--- rr = 0\n",
      "--- rr = 1\n",
      "--- rr = 2\n",
      "--- rr = 3\n",
      "--- rr = 4\n",
      "--- rr = 5\n",
      "Tot | Compute Radiation Field : 1175.451776 seconds\n",
      "Tot | Compute Statistical Equilibrium : 12.679301 seconds\n",
      "Already 98.0283 % converged!\n",
      "Starting iteration 14\n",
      "using ng acceleration? 0\n",
      "Computing the radiation field...\n",
      "Computing radiation field...\n",
      "--- rr = 0\n",
      "--- rr = 1\n",
      "--- rr = 2\n",
      "--- rr = 3\n",
      "--- rr = 4\n",
      "--- rr = 5\n",
      "Tot | Compute Radiation Field : 1260.367017 seconds\n",
      "Tot | Compute Statistical Equilibrium : 13.541977 seconds\n",
      "Already 98.2997 % converged!\n",
      "Starting iteration 15\n",
      "using ng acceleration? 1\n",
      "Ng acceleration max order: 3 used order: 2\n",
      "Already 98.8533 % converged!\n",
      "Starting iteration 15\n",
      "using ng acceleration? 0\n",
      "Computing the radiation field...\n",
      "Computing radiation field...\n",
      "--- rr = 0\n",
      "--- rr = 1\n",
      "--- rr = 2\n",
      "--- rr = 3\n",
      "--- rr = 4\n",
      "--- rr = 5\n",
      "Tot | Compute Radiation Field : 1340.094684 seconds\n",
      "Tot | Compute Statistical Equilibrium : 14.378370 seconds\n",
      "Already 98.442 % converged!\n",
      "Starting iteration 16\n",
      "using ng acceleration? 0\n",
      "Computing the radiation field...\n",
      "Computing radiation field...\n",
      "--- rr = 0\n",
      "--- rr = 1\n",
      "--- rr = 2\n",
      "--- rr = 3\n",
      "--- rr = 4\n",
      "--- rr = 5\n",
      "Tot | Compute Radiation Field : 1425.172646 seconds\n",
      "Tot | Compute Statistical Equilibrium : 15.325993 seconds\n",
      "Already 98.4576 % converged!\n",
      "Starting iteration 17\n",
      "using ng acceleration? 0\n",
      "Computing the radiation field...\n",
      "Computing radiation field...\n",
      "--- rr = 0\n",
      "--- rr = 1\n",
      "--- rr = 2\n",
      "--- rr = 3\n",
      "--- rr = 4\n",
      "--- rr = 5\n",
      "Tot | Compute Radiation Field : 1512.777383 seconds\n",
      "Tot | Compute Statistical Equilibrium : 16.254341 seconds\n",
      "Already 98.4382 % converged!\n",
      "Starting iteration 18\n",
      "using ng acceleration? 1\n",
      "Ng acceleration max order: 3 used order: 2\n",
      "Already 98.7581 % converged!\n",
      "Starting iteration 18\n",
      "using ng acceleration? 0\n",
      "Computing the radiation field...\n",
      "Computing radiation field...\n",
      "--- rr = 0\n",
      "--- rr = 1\n",
      "--- rr = 2\n",
      "--- rr = 3\n",
      "--- rr = 4\n",
      "--- rr = 5\n",
      "Tot | Compute Radiation Field : 1600.056789 seconds\n",
      "Tot | Compute Statistical Equilibrium : 17.197877 seconds\n",
      "Already 98.5715 % converged!\n",
      "Starting iteration 19\n",
      "using ng acceleration? 0\n",
      "Computing the radiation field...\n",
      "Computing radiation field...\n",
      "--- rr = 0\n",
      "--- rr = 1\n",
      "--- rr = 2\n",
      "--- rr = 3\n",
      "--- rr = 4\n",
      "--- rr = 5\n",
      "Tot | Compute Radiation Field : 1687.062219 seconds\n",
      "Tot | Compute Statistical Equilibrium : 18.149585 seconds\n",
      "Already 98.4956 % converged!\n",
      "Converged after 20 iterations\n"
     ]
    }
   ],
   "source": [
    "%%time\n",
    "\n",
    "# Iterate level populations until statistical equilibrium\n",
    "model.compute_level_populations_sparse (True, 20)"
   ]
  },
  {
   "cell_type": "code",
   "execution_count": 11,
   "metadata": {},
   "outputs": [
    {
     "name": "stdout",
     "output_type": "stream",
     "text": [
      "Computing spectral discretisation...\n",
      "Computing image new...\n"
     ]
    },
    {
     "data": {
      "text/plain": [
       "0"
      ]
     },
     "execution_count": 11,
     "metadata": {},
     "output_type": "execute_result"
    }
   ],
   "source": [
    "fcen = model.lines.lineProducingSpecies[0].linedata.frequency[0]\n",
    "vpix = 1.0e+3   # velocity pixel size [m/s]\n",
    "dd   = vpix * (model.parameters.nfreqs()-1)/2 / magritte.CC\n",
    "fmin = fcen - fcen*dd\n",
    "fmax = fcen + fcen*dd\n",
    "\n",
    "# Ray orthogonal to image plane\n",
    "ray_nr = 0\n",
    "\n",
    "model.compute_spectral_discretisation (fmin, fmax)#bins the frequency spectrum [fmin, fmax] into model.parameters.nfreqs bins.\n",
    "# model.compute_spectral_discretisation (fmin, fmax, 31)#bins using the specified amount of frequency bins (31). Can be any integer >=1\n",
    "\n",
    "model.compute_image_new               (ray_nr, 512, 512)#using a resolution of 512x512 for the image.\n",
    "#Instead of definining a ray index [0, nrays-1], you can also define a ray direction for the imager\n",
    "#model.compute_image_new              (rx, ry, rz, 512, 512)#in which (rx, ry, rz) is the (normalized) ray direction"
   ]
  },
  {
   "cell_type": "code",
   "execution_count": 12,
   "metadata": {},
   "outputs": [
    {
     "name": "stdout",
     "output_type": "stream",
     "text": [
      "Created image directory: /Users/sofiaw/git/StellarAtmospheres_assignments/ex3_complex_wind/output/images/\n"
     ]
    },
    {
     "name": "stderr",
     "output_type": "stream",
     "text": [
      "100%|████████████████████████████████████████████████████████████████████████████████| 200/200 [03:38<00:00,  1.09s/it]\n"
     ]
    },
    {
     "data": {
      "application/vnd.jupyter.widget-view+json": {
       "model_id": "528f050814884fdd9f53b9397d8bd06e",
       "version_major": 2,
       "version_minor": 0
      },
      "text/plain": [
       "interactive(children=(IntSlider(value=99, description='v', max=199), Output()), _dom_classes=('widget-interact…"
      ]
     },
     "metadata": {},
     "output_type": "display_data"
    },
    {
     "data": {
      "text/plain": [
       "<function magritte.plot.image_mpl.<locals>.<lambda>(v)>"
      ]
     },
     "execution_count": 12,
     "metadata": {},
     "output_type": "execute_result"
    }
   ],
   "source": [
    "plot.image_mpl(\n",
    "    model,\n",
    "    image_nr =  -1,\n",
    "    zoom     = 1.3,\n",
    "    npix_x   = 256,\n",
    "    npix_y   = 256,\n",
    "    x_unit   = units.au,\n",
    "    v_unit   = units.km / units.s)"
   ]
  },
  {
   "cell_type": "code",
   "execution_count": 13,
   "metadata": {},
   "outputs": [
    {
     "data": {
      "application/vnd.jupyter.widget-view+json": {
       "model_id": "4e30175109eb482a83a50b0106168b02",
       "version_major": 2,
       "version_minor": 0
      },
      "text/plain": [
       "Output()"
      ]
     },
     "metadata": {},
     "output_type": "display_data"
    }
   ],
   "source": [
    "import k3d\n",
    "from k3d.colormaps import matplotlib_color_maps\n",
    "from k3d.helpers import map_colors\n",
    "from numpy.linalg import norm\n",
    "\n",
    "p = np.linspace(-1, 1, 10)\n",
    "\n",
    "def f(x, y, z):\n",
    "    return y * z, x * z, x * y\n",
    "\n",
    "vectors = np.array([[[f(x, y, z) for x in p] for y in p] for z in p]).astype(np.float32)\n",
    "norms = np.apply_along_axis(norm, 1, vectors.reshape(-1, 3))\n",
    "\n",
    "plt_vector_field = k3d.vector_field(vectors,\n",
    "                                    head_size=1.5,\n",
    "                                    scale=2,\n",
    "                                    bounds=[-1, 1, -1, 1, -1, 1])\n",
    "\n",
    "colors = map_colors(norms, matplotlib_color_maps.Turbo, [0, 1]).astype(np.uint32)\n",
    "plt_vector_field.colors = np.repeat(colors, 2)\n",
    "\n",
    "plot = k3d.plot()\n",
    "plot += plt_vector_field\n",
    "plot.display()"
   ]
  },
  {
   "cell_type": "code",
   "execution_count": 14,
   "metadata": {},
   "outputs": [
    {
     "ename": "NameError",
     "evalue": "name 'rhos' is not defined",
     "output_type": "error",
     "traceback": [
      "\u001b[0;31m---------------------------------------------------------------------------\u001b[0m",
      "\u001b[0;31mNameError\u001b[0m                                 Traceback (most recent call last)",
      "Cell \u001b[0;32mIn[14], line 1\u001b[0m\n\u001b[0;32m----> 1\u001b[0m data \u001b[38;5;241m=\u001b[39m np\u001b[38;5;241m.\u001b[39mlog(\u001b[43mrhos\u001b[49m)\n\u001b[1;32m      3\u001b[0m plt_volume \u001b[38;5;241m=\u001b[39m k3d\u001b[38;5;241m.\u001b[39mvolume(\n\u001b[1;32m      4\u001b[0m     volume      \u001b[38;5;241m=\u001b[39m data\u001b[38;5;241m.\u001b[39mastype(np\u001b[38;5;241m.\u001b[39mfloat32),\n\u001b[1;32m      5\u001b[0m     alpha_coef  \u001b[38;5;241m=\u001b[39m \u001b[38;5;241m5.0\u001b[39m,\n\u001b[1;32m      6\u001b[0m     color_range \u001b[38;5;241m=\u001b[39m [\u001b[38;5;241m0\u001b[39m, \u001b[38;5;241m30\u001b[39m]\n\u001b[1;32m      7\u001b[0m )\n\u001b[1;32m     10\u001b[0m plot  \u001b[38;5;241m=\u001b[39m k3d\u001b[38;5;241m.\u001b[39mplot()\n",
      "\u001b[0;31mNameError\u001b[0m: name 'rhos' is not defined"
     ]
    }
   ],
   "source": [
    "data = np.log(rhos)\n",
    "\n",
    "plt_volume = k3d.volume(\n",
    "    volume      = data.astype(np.float32),\n",
    "    alpha_coef  = 5.0,\n",
    "    color_range = [0, 30]\n",
    ")\n",
    "\n",
    "\n",
    "plot  = k3d.plot()\n",
    "plot += plt_volume\n",
    "plot.display()"
   ]
  },
  {
   "cell_type": "code",
   "execution_count": 28,
   "metadata": {},
   "outputs": [],
   "source": [
    "from ipywidgets import interact"
   ]
  },
  {
   "cell_type": "code",
   "execution_count": 29,
   "metadata": {},
   "outputs": [
    {
     "data": {
      "application/vnd.jupyter.widget-view+json": {
       "model_id": "0373400030744ea4b51e2129e4971471",
       "version_major": 2,
       "version_minor": 0
      },
      "text/plain": [
       "interactive(children=(IntSlider(value=37, description='i', max=75), Output()), _dom_classes=('widget-interact'…"
      ]
     },
     "metadata": {},
     "output_type": "display_data"
    },
    {
     "data": {
      "text/plain": [
       "<function __main__.plot(i)>"
      ]
     },
     "execution_count": 29,
     "metadata": {},
     "output_type": "execute_result"
    },
    {
     "data": {
      "text/plain": [
       "<Figure size 900x600 with 0 Axes>"
      ]
     },
     "metadata": {},
     "output_type": "display_data"
    },
    {
     "data": {
      "text/plain": [
       "<Figure size 900x600 with 0 Axes>"
      ]
     },
     "metadata": {},
     "output_type": "display_data"
    }
   ],
   "source": [
    "data = np.log(rhos)\n",
    "\n",
    "def plot(i):\n",
    "    plt.figure(dpi=150)\n",
    "    plt.imshow(data[:,i,:], vmin=data.min(), vmax=data.max())\n",
    "\n",
    "interact(plot, i=(0,len(rhos)))"
   ]
  },
  {
   "cell_type": "code",
   "execution_count": null,
   "metadata": {},
   "outputs": [],
   "source": []
  }
 ],
 "metadata": {
  "kernelspec": {
   "display_name": "Python 3 (ipykernel)",
   "language": "python",
   "name": "python3"
  },
  "language_info": {
   "codemirror_mode": {
    "name": "ipython",
    "version": 3
   },
   "file_extension": ".py",
   "mimetype": "text/x-python",
   "name": "python",
   "nbconvert_exporter": "python",
   "pygments_lexer": "ipython3",
   "version": "3.9.15"
  }
 },
 "nbformat": 4,
 "nbformat_minor": 4
}
