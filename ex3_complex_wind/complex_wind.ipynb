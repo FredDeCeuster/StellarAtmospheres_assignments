{
 "cells": [
  {
   "cell_type": "markdown",
   "metadata": {},
   "source": [
    "# 3: Complex wind\n",
    "-----------------\n",
    "\n",
    "In this exercise we look at the $\\pi^{1}\\text{Gru}$ model by [Doan et al. (2017)](https://ui.adsabs.harvard.edu/abs/2017A%26A...605A..28D/abstract)."
   ]
  },
  {
   "cell_type": "code",
   "execution_count": 12,
   "metadata": {},
   "outputs": [],
   "source": [
    "import numpy             as np\n",
    "import matplotlib.pyplot as plt\n",
    "import magritte.tools    as tools\n",
    "import magritte.plot     as plot\n",
    "import magritte.setup    as setup\n",
    "import magritte.core     as magritte\n",
    "import magritte.mesher   as mesher\n",
    "\n",
    "from astropy       import units, constants\n",
    "from scipy.spatial import Delaunay"
   ]
  },
  {
   "cell_type": "code",
   "execution_count": 2,
   "metadata": {},
   "outputs": [],
   "source": [
    "# Deifne names for the data files\n",
    "model_file = 'output/magritte_complex_wind.hdf5'\n",
    "lamda_file = 'data/co.txt'"
   ]
  },
  {
   "cell_type": "markdown",
   "metadata": {},
   "source": [
    "Download the line data file form the [LAMDA database](https://home.strw.leidenuniv.nl/~moldata/)."
   ]
  },
  {
   "cell_type": "code",
   "execution_count": 3,
   "metadata": {},
   "outputs": [
    {
     "name": "stdout",
     "output_type": "stream",
     "text": [
      "--2024-02-13 12:47:52--  https://home.strw.leidenuniv.nl/~moldata/datafiles/co.dat\n",
      "Resolving home.strw.leidenuniv.nl (home.strw.leidenuniv.nl)... 132.229.214.179\n",
      "Connecting to home.strw.leidenuniv.nl (home.strw.leidenuniv.nl)|132.229.214.179|:443... connected.\n",
      "HTTP request sent, awaiting response... 200 OK\n",
      "Length: 444204 (434K)\n",
      "Saving to: ‘data/co.txt’\n",
      "\n",
      "data/co.txt         100%[===================>] 433.79K  --.-KB/s    in 0.07s   \n",
      "\n",
      "2024-02-13 12:47:52 (5.81 MB/s) - ‘data/co.txt’ saved [444204/444204]\n",
      "\n"
     ]
    }
   ],
   "source": [
    "!wget \"https://home.strw.leidenuniv.nl/~moldata/datafiles/co.dat\" --output-document $lamda_file"
   ]
  },
  {
   "cell_type": "code",
   "execution_count": 4,
   "metadata": {},
   "outputs": [],
   "source": [
    "# Define model parameters, from Table 2 in Doan et al. (2017)\n",
    "r_out = (2000.0 * units.au        ).si.value\n",
    "R1    = (2000.0 * units.au        ).si.value\n",
    "R3    = (3300.0 * units.au        ).si.value\n",
    "d     = ( 270.0 * units.au        ).si.value\n",
    "h     = ( 130.0 * units.au        ).si.value\n",
    "φ0    = (  90.0 * units.deg       ).si.value #(  25.0 * units.deg       ).si.value\n",
    "v1a   = (   8.0 * units.km/units.s).si.value\n",
    "v1b   = (   5.0 * units.km/units.s).si.value\n",
    "v3a   = (  11.0 * units.km/units.s).si.value\n",
    "v3b   = (  89.0 * units.km/units.s).si.value\n",
    "T0    = ( 190.0 * units.K         ).si.value\n",
    "n1a   = (9.0e+7 * units.cm**(-3)  ).si.value\n",
    "n3a   = (6.0e+7 * units.cm**(-3)  ).si.value\n",
    "fφ0   =  2.5\n",
    "α     =  0.0\n",
    "β     = -0.15\n",
    "\n",
    "X_CO   =  6.5e-4   # (Knapp et al. 1999)\n",
    "v_turb = (2.0 * units.km/units.s).si.value\n",
    "\n",
    "\n",
    "def cartesian_to_spherical(x, y, z):\n",
    "    \"\"\"\n",
    "    Convert cartesian to spherical coordinates.\n",
    "    \"\"\"\n",
    "    r = np.sqrt(x**2 + y**2 + z**2)\n",
    "    φ = np.pi/2 - np.arccos(z / r)\n",
    "    θ = np.arctan2(y, x)\n",
    "    return (r, φ, θ)\n",
    "\n",
    "\n",
    "def fφ(φ):\n",
    "    \"\"\"\n",
    "    Linear function, used to define the torus shape (Doan et al. 2017).\n",
    "    \"\"\"\n",
    "    return 1.0 + np.abs(φ/φ0) * fφ0 \n",
    "\n",
    "\n",
    "def mask_1(r, φ, θ):\n",
    "    \"\"\"\n",
    "    Mask for component 1: torus.\n",
    "    \"\"\"\n",
    "    return np.logical_and(r > d/2, r < R1, np.abs(φ) < φ0)\n",
    "\n",
    "\n",
    "def mask_3(r, φ, θ):\n",
    "    \"\"\"\n",
    "    Mask for component 3: bipolar outflow.\n",
    "    \"\"\"\n",
    "    return np.logical_and(r > h/2, r < R3, np.abs(φ) > φ0)\n",
    "\n",
    "\n",
    "def number_density_H2(x, y, z):\n",
    "    \"\"\"\n",
    "    H2 number density distribution.\n",
    "    \"\"\"\n",
    "    r, φ, θ = cartesian_to_spherical(x, y, z)\n",
    "    # Get the masks for the different components\n",
    "    m1 = mask_1(r, φ, θ)\n",
    "    m3 = mask_3(r, φ, θ)\n",
    "    # Initialize the number density array\n",
    "    nH2 = np.zeros_like(r)\n",
    "    # H2 number density distribution of component one, Eq. (1) in Doan et al. (2017)\n",
    "    n1 = n1a * (r / (1.0e+15 * units.cm).si.value)**(-3) * 1.0 / fφ(φ)\n",
    "    # H2 number density distribution of component three, Eq. (6) in Doan et al. (2017)\n",
    "    n3 = n3a * (r / (1.0e+15 * units.cm).si.value)**(-3+α)\n",
    "    # Apply masks\n",
    "    nH2[m1] = n1[m1]\n",
    "    # nH2[m3] = n3[m3]\n",
    "    # Return the H2 number density\n",
    "    return nH2\n",
    "\n",
    "\n",
    "def velocity(x, y, z):\n",
    "    \"\"\"\n",
    "    Velocity distribution of component 1: a torus\n",
    "    \"\"\"\n",
    "    r, φ, θ = cartesian_to_spherical(x, y, z)\n",
    "    # Get the masks for the different components\n",
    "    m1 = mask_1(r, φ, θ)\n",
    "    m3 = mask_3(r, φ, θ)\n",
    "    # Initialize the velocity array\n",
    "    vr = np.zeros_like(r)\n",
    "    # Radial velocity of component one, Eq. (1) in Doan et al. (2017)\n",
    "    v1 = (v1a + v1b * r / R1) * fφ(φ)\n",
    "    # Radial velocity of component one, Eq. (2) in Doan et al. (2017)\n",
    "    v3 =  v3a + v3b * z / R3\n",
    "    # Apply masks\n",
    "    vr[m1] = v1[m1]\n",
    "    vr[m3] = v3[m3]\n",
    "    # Return the three cartesian components of the velocity vector\n",
    "    return np.array((vr*x/r, vr*y/r, vr*z/r)).T\n",
    "\n",
    "\n",
    "def temperature(x, y, z):\n",
    "    \"\"\"\n",
    "    Temperature distribution.\n",
    "    \"\"\"\n",
    "    r, φ, θ = cartesian_to_spherical(x, y, z)\n",
    "    # Temperature distribution, Eq. (7) in Doan et al. (2017)\n",
    "    return T0 * (r / (1.0e+15 * units.cm).si.value)**(-0.7+β)"
   ]
  },
  {
   "cell_type": "markdown",
   "metadata": {},
   "source": [
    "Create a point cloud for the model."
   ]
  },
  {
   "cell_type": "code",
   "execution_count": 5,
   "metadata": {},
   "outputs": [
    {
     "name": "stderr",
     "output_type": "stream",
     "text": [
      "/tmp/ipykernel_2412705/2310517332.py:28: RuntimeWarning: invalid value encountered in true_divide\n",
      "  φ = np.pi/2 - np.arccos(z / r)\n",
      "/tmp/ipykernel_2412705/2310517332.py:65: RuntimeWarning: divide by zero encountered in power\n",
      "  n1 = n1a * (r / (1.0e+15 * units.cm).si.value)**(-3) * 1.0 / fφ(φ)\n",
      "/tmp/ipykernel_2412705/2310517332.py:67: RuntimeWarning: divide by zero encountered in power\n",
      "  n3 = n3a * (r / (1.0e+15 * units.cm).si.value)**(-3+α)\n"
     ]
    },
    {
     "name": "stdout",
     "output_type": "stream",
     "text": [
      "new interior points:  50865\n",
      "number boundary points:  1538\n"
     ]
    }
   ],
   "source": [
    "resolution = 75\n",
    "\n",
    "# Create coordinate axis for the background mesh\n",
    "xs = np.linspace(-r_out, +r_out, resolution, endpoint=True)\n",
    "ys = np.linspace(-r_out, +r_out, resolution, endpoint=True)\n",
    "zs = np.linspace(-r_out, +r_out, resolution, endpoint=True)\n",
    "\n",
    "# Create a background mesh\n",
    "(Xs, Ys, Zs) = np.meshgrid(xs, ys, zs)\n",
    "\n",
    "# Extract positions of points in background mesh\n",
    "position = np.array((Xs.ravel(), Ys.ravel(), Zs.ravel())).T\n",
    "\n",
    "# Evaluate a tracer (here the H2 number density density) on the background mesh\n",
    "tracer      = number_density_H2(Xs, Ys, Zs)\n",
    "tracer_min  = np.min(tracer[tracer!=0.0])   # Find smallest non-zero value\n",
    "tracer     += tracer_min                    # add smallest non-zero value to avoid zeros\n",
    "\n",
    "# Create a point cloud for the model\n",
    "positions_reduced, nb_boundary = mesher.remesh_point_cloud(\n",
    "    positions = position,\n",
    "    data      = tracer.ravel(),\n",
    "    max_depth = 10,\n",
    "    threshold = 2.0e-1,\n",
    "    hullorder = 4\n",
    ")\n",
    "\n",
    "# Add inner boundary to the model\n",
    "positions_reduced, nb_boundary = mesher.point_cloud_add_spherical_inner_boundary(\n",
    "    remeshed_positions = positions_reduced,\n",
    "    nb_boundary        = nb_boundary,\n",
    "    radius             = 0.01*r_out,\n",
    "    healpy_order       = 5,\n",
    "    origin             = np.array([0.0, 0.0, 0.0]).T\n",
    ")\n",
    "\n",
    "# Add outer boundary to the model\n",
    "positions_reduced, nb_boundary = mesher.point_cloud_add_spherical_outer_boundary(\n",
    "    remeshed_positions = positions_reduced,\n",
    "    nb_boundary        = nb_boundary,\n",
    "    radius             = r_out,\n",
    "    healpy_order       = 15,\n",
    "    origin             = np.array([0.0, 0.0, 0.0]).T\n",
    ")\n",
    "\n",
    "# Numbenr of points in the model\n",
    "npoints = len(positions_reduced)\n",
    "\n",
    "# Extract Delaunay vertices (= Voronoi neighbors)\n",
    "delaunay = Delaunay(positions_reduced)\n",
    "(indptr, indices) = delaunay.vertex_neighbor_vertices\n",
    "neighbors = [indices[indptr[k]:indptr[k+1]] for k in range(npoints)]\n",
    "nbs       = [n for sublist in neighbors for n in sublist]\n",
    "n_nbs     = [len(sublist) for sublist in neighbors]"
   ]
  },
  {
   "cell_type": "code",
   "execution_count": 6,
   "metadata": {},
   "outputs": [],
   "source": [
    "position = positions_reduced\n",
    "velocity = velocity         (position[:,0], position[:,1], position[:,2])\n",
    "tmp      = temperature      (position[:,0], position[:,1], position[:,2])\n",
    "nH2      = number_density_H2(position[:,0], position[:,1], position[:,2])\n",
    "nCO      = X_CO * nH2\n",
    "trb      = v_turb * np.ones (npoints)"
   ]
  },
  {
   "cell_type": "code",
   "execution_count": 7,
   "metadata": {},
   "outputs": [
    {
     "name": "stdout",
     "output_type": "stream",
     "text": [
      "Writing parameters...\n",
      "Writing points...\n",
      "Writing rays...\n",
      "Writing boundary...\n",
      "Writing chemistry...\n",
      "Writing species...\n",
      "Writing thermodynamics...\n",
      "Writing temperature...\n",
      "Writing turbulence...\n",
      "Writing lines...\n",
      "Writing lineProducingSpecies...\n",
      "Writing linedata...\n",
      "ncolpoar = 2\n",
      "--- colpoar = 0\n",
      "Writing collisionPartner...\n",
      "(l, c) = 0, 0\n",
      "--- colpoar = 1\n",
      "Writing collisionPartner...\n",
      "(l, c) = 0, 1\n",
      "Writing quadrature...\n",
      "Writing populations...\n",
      "Writing radiation...\n",
      "Writing frequencies...\n",
      "                                           \n",
      "-------------------------------------------\n",
      "  Reading Model...                         \n",
      "-------------------------------------------\n",
      " model file = output/magritte_complex_wind.hdf5\n",
      "-------------------------------------------\n",
      "Reading parameters...\n",
      "Reading points...\n",
      "Reading rays...\n",
      "Reading boundary...\n",
      "Reading chemistry...\n",
      "Reading species...\n",
      "Reading thermodynamics...\n",
      "Reading temperature...\n",
      "Reading turbulence...\n",
      "Reading lines...\n",
      "Reading lineProducingSpecies...\n",
      "Reading linedata...\n",
      "read num 0\n",
      "read sym CO\n",
      "nlev = 41\n",
      "nrad = 40\n",
      "Reading collisionPartner...\n",
      "Reading collisionPartner...\n",
      "Reading quadrature...\n",
      "Reading radiation...\n",
      "Reading frequencies...\n",
      "Not using scattering!\n",
      "                                           \n",
      "-------------------------------------------\n",
      "  Model read, parameters:                  \n",
      "-------------------------------------------\n",
      "  npoints    = 36944\n",
      "  nrays      = 12\n",
      "  nboundary  = 3000\n",
      "  nfreqs     = 440\n",
      "  nspecs     = 3\n",
      "  nlspecs    = 1\n",
      "  nlines     = 40\n",
      "  nquads     = 11\n",
      "-------------------------------------------\n",
      "                                           \n"
     ]
    }
   ],
   "source": [
    "model = magritte.Model ()                      # Create model object\n",
    "\n",
    "model.parameters.set_model_name (model_file)   # Magritte model file\n",
    "model.parameters.set_dimension  (3)            # This is a 3D model\n",
    "model.parameters.set_npoints    (npoints)      # Number of points\n",
    "model.parameters.set_nrays      (12)           # Number of rays\n",
    "model.parameters.set_nspecs     (3)            # Number of species (min. 5)\n",
    "model.parameters.set_nlspecs    (1)            # Number of line species\n",
    "model.parameters.set_nquads     (5)            # Number of quadrature points\n",
    "\n",
    "model.geometry.points.position.set(position)\n",
    "model.geometry.points.velocity.set(velocity / constants.c.si.value)   # velocities w.r.t. speed of light \n",
    "\n",
    "model.geometry.points.  neighbors.set(  nbs)\n",
    "model.geometry.points.n_neighbors.set(n_nbs)\n",
    "\n",
    "model.chemistry.species.abundance = np.array((nCO, nH2, np.zeros(npoints))).T\n",
    "model.chemistry.species.symbol    = ['CO', 'H2', 'e-']\n",
    "\n",
    "model.thermodynamics.temperature.gas  .set( tmp                         )\n",
    "model.thermodynamics.turbulence.vturb2.set((trb/constants.c.si.value)**2)\n",
    "\n",
    "model.parameters.set_nboundary(nb_boundary)\n",
    "model.geometry.boundary.boundary2point.set(np.arange(nb_boundary))\n",
    "\n",
    "# direction = np.array([[+1,0,0], [-1,0,0]])            # Comment out to use all directions\n",
    "# model.geometry.rays.direction.set(direction)          # Comment out to use all directions\n",
    "# model.geometry.rays.weight   .set(0.5 * np.ones(2))   # Comment out to use all directions\n",
    "\n",
    "model = setup.set_uniform_rays            (model)   # Uncomment to use all directions\n",
    "model = setup.set_boundary_condition_CMB  (model)\n",
    "# model = setup.set_linedata_from_LAMDA_file(model, lamda_file, {'considered transitions': [0]})\n",
    "model = setup.set_linedata_from_LAMDA_file(model, lamda_file)   # Consider all transitions\n",
    "model = setup.set_quadrature              (model)\n",
    "\n",
    "# Write and read model to initialize all variables\n",
    "model.write()\n",
    "model.read ()"
   ]
  },
  {
   "cell_type": "code",
   "execution_count": 8,
   "metadata": {},
   "outputs": [
    {
     "name": "stdout",
     "output_type": "stream",
     "text": [
      "Computing spectral discretisation...\n",
      "Computing inverse line widths..."
     ]
    },
    {
     "data": {
      "text/plain": [
       "0"
      ]
     },
     "execution_count": 8,
     "metadata": {},
     "output_type": "execute_result"
    },
    {
     "name": "stdout",
     "output_type": "stream",
     "text": [
      "\n",
      "Computing LTE level populations...\n"
     ]
    }
   ],
   "source": [
    "# Initialize model with LTE level populations\n",
    "model.compute_spectral_discretisation ()\n",
    "model.compute_inverse_line_widths     ()\n",
    "model.compute_LTE_level_populations   ()"
   ]
  },
  {
   "cell_type": "code",
   "execution_count": 9,
   "metadata": {},
   "outputs": [
    {
     "name": "stdout",
     "output_type": "stream",
     "text": [
      "using ng acceleration? 0\n",
      "Starting iteration 1\n",
      "Computing the radiation field...\n",
      "Computing radiation field...\n",
      "--- rr = 0\n",
      "--- rr = 1\n",
      "--- rr = 2\n",
      "--- rr = 3\n",
      "--- rr = 4\n",
      "--- rr = 5\n",
      "Tot | Compute Radiation Field : 24.723707 seconds\n",
      "Minor warning: population inversions detected; Magritte does not handle masers, so setting affected populations to LTE.\n",
      "Tot | Compute Statistical Equilibrium : 0.584470 seconds\n",
      "Already 75.2904 % converged!\n",
      "using ng acceleration? 0\n",
      "Starting iteration 2\n",
      "Computing the radiation field...\n",
      "Computing radiation field...\n",
      "--- rr = 0\n",
      "--- rr = 1\n",
      "--- rr = 2\n",
      "--- rr = 3\n",
      "--- rr = 4\n",
      "--- rr = 5\n",
      "Tot | Compute Radiation Field : 49.241464 seconds\n",
      "Minor warning: population inversions detected; Magritte does not handle masers, so setting affected populations to LTE.\n",
      "Tot | Compute Statistical Equilibrium : 1.144149 seconds\n",
      "Already 75.3843 % converged!\n",
      "using ng acceleration? 0\n",
      "Starting iteration 3\n",
      "Computing the radiation field...\n",
      "Computing radiation field...\n",
      "--- rr = 0\n",
      "--- rr = 1\n",
      "--- rr = 2\n",
      "--- rr = 3\n",
      "--- rr = 4\n",
      "--- rr = 5\n",
      "Tot | Compute Radiation Field : 73.853809 seconds\n",
      "Minor warning: population inversions detected; Magritte does not handle masers, so setting affected populations to LTE.\n",
      "Tot | Compute Statistical Equilibrium : 1.857042 seconds\n",
      "Already 75.4333 % converged!\n",
      "using ng acceleration? 0\n",
      "Starting iteration 4\n",
      "Computing the radiation field...\n",
      "Computing radiation field...\n",
      "--- rr = 0\n",
      "--- rr = 1\n",
      "--- rr = 2\n",
      "--- rr = 3\n",
      "--- rr = 4\n",
      "--- rr = 5\n",
      "Tot | Compute Radiation Field : 98.016357 seconds\n",
      "Minor warning: population inversions detected; Magritte does not handle masers, so setting affected populations to LTE.\n",
      "Tot | Compute Statistical Equilibrium : 2.431805 seconds\n",
      "Already 75.7249 % converged!\n",
      "using ng acceleration? 0\n",
      "Starting iteration 5\n",
      "Computing the radiation field...\n",
      "Computing radiation field...\n",
      "--- rr = 0\n",
      "--- rr = 1\n",
      "--- rr = 2\n",
      "--- rr = 3\n",
      "--- rr = 4\n",
      "--- rr = 5\n",
      "Tot | Compute Radiation Field : 122.328108 seconds\n",
      "Minor warning: population inversions detected; Magritte does not handle masers, so setting affected populations to LTE.\n",
      "Tot | Compute Statistical Equilibrium : 3.025563 seconds\n",
      "Already 76.5645 % converged!\n",
      "using ng acceleration? 0\n",
      "Starting iteration 6\n",
      "Computing the radiation field...\n",
      "Computing radiation field...\n",
      "--- rr = 0\n",
      "--- rr = 1\n",
      "--- rr = 2\n",
      "--- rr = 3\n",
      "--- rr = 4\n",
      "--- rr = 5\n",
      "Tot | Compute Radiation Field : 146.817442 seconds\n",
      "Minor warning: population inversions detected; Magritte does not handle masers, so setting affected populations to LTE.\n",
      "Tot | Compute Statistical Equilibrium : 3.590358 seconds\n",
      "Already 79.3719 % converged!\n",
      "using ng acceleration? 0\n",
      "Starting iteration 7\n",
      "Computing the radiation field...\n",
      "Computing radiation field...\n",
      "--- rr = 0\n",
      "--- rr = 1\n",
      "--- rr = 2\n",
      "--- rr = 3\n",
      "--- rr = 4\n",
      "--- rr = 5\n",
      "Tot | Compute Radiation Field : 171.710895 seconds\n",
      "Minor warning: population inversions detected; Magritte does not handle masers, so setting affected populations to LTE.\n",
      "Tot | Compute Statistical Equilibrium : 4.164552 seconds\n",
      "Already 82.4116 % converged!\n",
      "using ng acceleration? 0\n",
      "Starting iteration 8\n",
      "Computing the radia"
     ]
    },
    {
     "data": {
      "text/plain": [
       "11"
      ]
     },
     "execution_count": 9,
     "metadata": {},
     "output_type": "execute_result"
    },
    {
     "name": "stdout",
     "output_type": "stream",
     "text": [
      "tion field...\n",
      "Computing radiation field...\n",
      "--- rr = 0\n",
      "--- rr = 1\n",
      "--- rr = 2\n",
      "--- rr = 3\n",
      "--- rr = 4\n",
      "--- rr = 5\n",
      "Tot | Compute Radiation Field : 196.216150 seconds\n",
      "Minor warning: population inversions detected; Magritte does not handle masers, so setting affected populations to LTE.\n",
      "Tot | Compute Statistical Equilibrium : 4.746921 seconds\n",
      "Already 84.9019 % converged!\n",
      "using ng acceleration? 0\n",
      "Starting iteration 9\n",
      "Computing the radiation field...\n",
      "Computing radiation field...\n",
      "--- rr = 0\n",
      "--- rr = 1\n",
      "--- rr = 2\n",
      "--- rr = 3\n",
      "--- rr = 4\n",
      "--- rr = 5\n",
      "Tot | Compute Radiation Field : 220.475236 seconds\n",
      "Minor warning: population inversions detected; Magritte does not handle masers, so setting affected populations to LTE.\n",
      "Tot | Compute Statistical Equilibrium : 5.450420 seconds\n",
      "Already 87.6468 % converged!\n",
      "using ng acceleration? 1\n",
      "Ng acceleration max order: 9 used order: 9\n",
      "Minor warning: population inversions detected; Magritte does not handle masers, so setting affected populations to LTE.\n",
      "using ng acceleration? 0\n",
      "Starting iteration 10\n",
      "Computing the radiation field...\n",
      "Computing radiation field...\n",
      "--- rr = 0\n",
      "--- rr = 1\n",
      "--- rr = 2\n",
      "--- rr = 3\n",
      "--- rr = 4\n",
      "--- rr = 5\n",
      "Tot | Compute Radiation Field : 245.007598 seconds\n",
      "Minor warning: population inversions detected; Magritte does not handle masers, so setting affected populations to LTE.\n",
      "Tot | Compute Statistical Equilibrium : 5.998270 seconds\n",
      "Already 98.8626 % converged!\n",
      "using ng acceleration? 0\n",
      "Starting iteration 11\n",
      "Computing the radiation field...\n",
      "Computing radiation field...\n",
      "--- rr = 0\n",
      "--- rr = 1\n",
      "--- rr = 2\n",
      "--- rr = 3\n",
      "--- rr = 4\n",
      "--- rr = 5\n",
      "Tot | Compute Radiation Field : 269.401949 seconds\n",
      "Minor warning: population inversions detected; Magritte does not handle masers, so setting affected populations to LTE.\n",
      "Tot | Compute Statistical Equilibrium : 6.600554 seconds\n",
      "Already 99.8891 % converged!\n",
      "Converged after 11 iterations\n"
     ]
    }
   ],
   "source": [
    "# Iterate level populations until statistical equilibrium\n",
    "model.compute_level_populations_sparse (True, 20)"
   ]
  },
  {
   "cell_type": "code",
   "execution_count": 10,
   "metadata": {},
   "outputs": [
    {
     "name": "stdout",
     "output_type": "stream",
     "text": [
      "Computing spectral discretisation...\n",
      "Computing image new...\n"
     ]
    },
    {
     "data": {
      "text/plain": [
       "0"
      ]
     },
     "execution_count": 10,
     "metadata": {},
     "output_type": "execute_result"
    }
   ],
   "source": [
    "fcen = model.lines.lineProducingSpecies[0].linedata.frequency[0]\n",
    "vpix = 1.0e+3   # velocity pixel size [m/s]\n",
    "dd   = vpix * (model.parameters.nfreqs()-1)/2 / magritte.CC\n",
    "fmin = fcen - fcen*dd\n",
    "fmax = fcen + fcen*dd\n",
    "\n",
    "# Ray orthogonal to image plane\n",
    "ray_nr = 0\n",
    "\n",
    "model.compute_spectral_discretisation (fmin, fmax)#bins the frequency spectrum [fmin, fmax] into model.parameters.nfreqs bins.\n",
    "# model.compute_spectral_discretisation (fmin, fmax, 31)#bins using the specified amount of frequency bins (31). Can be any integer >=1\n",
    "\n",
    "model.compute_image_new               (ray_nr, 512, 512)#using a resolution of 512x512 for the image.\n",
    "#Instead of definining a ray index [0, nrays-1], you can also define a ray direction for the imager\n",
    "#model.compute_image_new              (rx, ry, rz, 512, 512)#in which (rx, ry, rz) is the (normalized) ray direction"
   ]
  },
  {
   "cell_type": "code",
   "execution_count": 13,
   "metadata": {},
   "outputs": [
    {
     "name": "stdout",
     "output_type": "stream",
     "text": [
      "Created image directory: /STER/frederikd/StellarAtmospheres_assignments/ex3_complex_wind/output/images/\n"
     ]
    },
    {
     "name": "stderr",
     "output_type": "stream",
     "text": [
      "100%|██████████| 440/440 [07:53<00:00,  1.08s/it]\n"
     ]
    },
    {
     "data": {
      "application/vnd.jupyter.widget-view+json": {
       "model_id": "7f9dbe1f14a54e0f8e26eede166471db",
       "version_major": 2,
       "version_minor": 0
      },
      "text/plain": [
       "interactive(children=(IntSlider(value=219, description='v', max=439), Output()), _dom_classes=('widget-interac…"
      ]
     },
     "metadata": {},
     "output_type": "display_data"
    },
    {
     "data": {
      "text/plain": [
       "<function magritte.plot.image_mpl.<locals>.<lambda>(v)>"
      ]
     },
     "execution_count": 13,
     "metadata": {},
     "output_type": "execute_result"
    }
   ],
   "source": [
    "plot.image_mpl(\n",
    "    model,\n",
    "    image_nr =  -1,\n",
    "    zoom     = 1.3,\n",
    "    npix_x   = 256,\n",
    "    npix_y   = 256,\n",
    "    x_unit   = units.au,\n",
    "    v_unit   = units.km / units.s)"
   ]
  },
  {
   "cell_type": "code",
   "execution_count": null,
   "metadata": {},
   "outputs": [
    {
     "data": {
      "application/vnd.jupyter.widget-view+json": {
       "model_id": "501318a444a845008ab37ffd44a1ae6c",
       "version_major": 2,
       "version_minor": 0
      },
      "text/plain": [
       "Output()"
      ]
     },
     "metadata": {},
     "output_type": "display_data"
    }
   ],
   "source": [
    "import k3d\n",
    "from k3d.colormaps import matplotlib_color_maps\n",
    "from k3d.helpers import map_colors\n",
    "from numpy.linalg import norm\n",
    "\n",
    "p = np.linspace(-1, 1, 10)\n",
    "\n",
    "def f(x, y, z):\n",
    "    return y * z, x * z, x * y\n",
    "\n",
    "vectors = np.array([[[f(x, y, z) for x in p] for y in p] for z in p]).astype(np.float32)\n",
    "norms = np.apply_along_axis(norm, 1, vectors.reshape(-1, 3))\n",
    "\n",
    "plt_vector_field = k3d.vector_field(vectors,\n",
    "                                    head_size=1.5,\n",
    "                                    scale=2,\n",
    "                                    bounds=[-1, 1, -1, 1, -1, 1])\n",
    "\n",
    "colors = map_colors(norms, matplotlib_color_maps.Turbo, [0, 1]).astype(np.uint32)\n",
    "plt_vector_field.colors = np.repeat(colors, 2)\n",
    "\n",
    "plot = k3d.plot()\n",
    "plot += plt_vector_field\n",
    "plot.display()"
   ]
  },
  {
   "cell_type": "code",
   "execution_count": null,
   "metadata": {},
   "outputs": [
    {
     "data": {
      "application/vnd.jupyter.widget-view+json": {
       "model_id": "dbf63da368aa4a98a9a42c10cd104fa1",
       "version_major": 2,
       "version_minor": 0
      },
      "text/plain": [
       "Output()"
      ]
     },
     "metadata": {},
     "output_type": "display_data"
    }
   ],
   "source": [
    "data = np.log(rhos)\n",
    "\n",
    "plt_volume = k3d.volume(\n",
    "    volume      = data.astype(np.float32),\n",
    "    alpha_coef  = 5.0,\n",
    "    color_range = [0, 30]\n",
    ")\n",
    "\n",
    "\n",
    "plot  = k3d.plot()\n",
    "plot += plt_volume\n",
    "plot.display()"
   ]
  },
  {
   "cell_type": "code",
   "execution_count": 28,
   "metadata": {},
   "outputs": [],
   "source": [
    "from ipywidgets import interact"
   ]
  },
  {
   "cell_type": "code",
   "execution_count": 29,
   "metadata": {},
   "outputs": [
    {
     "data": {
      "application/vnd.jupyter.widget-view+json": {
       "model_id": "0373400030744ea4b51e2129e4971471",
       "version_major": 2,
       "version_minor": 0
      },
      "text/plain": [
       "interactive(children=(IntSlider(value=37, description='i', max=75), Output()), _dom_classes=('widget-interact'…"
      ]
     },
     "metadata": {},
     "output_type": "display_data"
    },
    {
     "data": {
      "text/plain": [
       "<function __main__.plot(i)>"
      ]
     },
     "execution_count": 29,
     "metadata": {},
     "output_type": "execute_result"
    },
    {
     "data": {
      "text/plain": [
       "<Figure size 900x600 with 0 Axes>"
      ]
     },
     "metadata": {},
     "output_type": "display_data"
    },
    {
     "data": {
      "text/plain": [
       "<Figure size 900x600 with 0 Axes>"
      ]
     },
     "metadata": {},
     "output_type": "display_data"
    }
   ],
   "source": [
    "data = np.log(rhos)\n",
    "\n",
    "def plot(i):\n",
    "    plt.figure(dpi=150)\n",
    "    plt.imshow(data[:,i,:], vmin=data.min(), vmax=data.max())\n",
    "\n",
    "interact(plot, i=(0,len(rhos)))"
   ]
  },
  {
   "cell_type": "code",
   "execution_count": null,
   "metadata": {},
   "outputs": [],
   "source": []
  }
 ],
 "metadata": {
  "kernelspec": {
   "display_name": "magritte",
   "language": "python",
   "name": "python3"
  },
  "language_info": {
   "codemirror_mode": {
    "name": "ipython",
    "version": 3
   },
   "file_extension": ".py",
   "mimetype": "text/x-python",
   "name": "python",
   "nbconvert_exporter": "python",
   "pygments_lexer": "ipython3",
   "version": "3.9.13"
  }
 },
 "nbformat": 4,
 "nbformat_minor": 2
}
